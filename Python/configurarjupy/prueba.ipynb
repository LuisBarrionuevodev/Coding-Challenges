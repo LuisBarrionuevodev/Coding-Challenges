{
 "cells": [
  {
   "cell_type": "code",
   "execution_count": 3,
   "metadata": {},
   "outputs": [
    {
     "name": "stdout",
     "output_type": "stream",
     "text": [
      "Versión de Python: 3.13.1 (tags/v3.13.1:0671451, Dec  3 2024, 19:06:28) [MSC v.1942 64 bit (AMD64)]\n",
      "¡Jupyter en VSCode está listo!\n"
     ]
    }
   ],
   "source": [
    "import sys\n",
    "print(f\"Versión de Python: {sys.version}\")\n",
    "print(\"¡Jupyter en VSCode está listo!\")\n"
   ]
  },
  {
   "cell_type": "markdown",
   "metadata": {},
   "source": [
    "\"\"ejercice 6\n",
    "The included code stub will read an integer, , from STDIN.\n",
    "\n",
    "Without using any string methods, try to print the following:\n",
    "\n",
    "\n",
    "Note that \"\" represents the consecutive values in between.\n",
    "\n",
    "Example\n",
    "n=5\n",
    "\n",
    "Print the string  12345.\n",
    "\"\""
   ]
  },
  {
   "cell_type": "code",
   "execution_count": null,
   "metadata": {},
   "outputs": [
    {
     "name": "stdout",
     "output_type": "stream",
     "text": [
      "12345\n"
     ]
    }
   ],
   "source": [
    "if __name__ == '__main__':\n",
    "    n = int(input(\"Ingresa un numero\"))\n",
    "    \n",
    "\n",
    "def Cuenta(n):\n",
    "    numero=\"\"\n",
    "    for i in range(1,n+1):\n",
    "        temporal=str(i)\n",
    "        numero+=temporal\n",
    "    return print(numero)     \n",
    "            \n",
    "\n",
    "\n",
    "Cuenta(n) "
   ]
  },
  {
   "cell_type": "markdown",
   "metadata": {},
   "source": [
    "#Encontrar al subcampeon"
   ]
  },
  {
   "cell_type": "code",
   "execution_count": 17,
   "metadata": {},
   "outputs": [
    {
     "name": "stdout",
     "output_type": "stream",
     "text": [
      "76\n"
     ]
    }
   ],
   "source": [
    "\n",
    "\n",
    "arr= [6,2,3,4,5,3,54,25,76,93,1,13]\n",
    "\n",
    "\n",
    "def subcampeon(arr):\n",
    "    sorteada=sorted(arr)\n",
    "    segundo=len(arr)-2\n",
    "    print(sorteada[segundo])\n",
    "\n",
    "\n",
    "\n",
    "\n",
    "subcampeon(arr)"
   ]
  },
  {
   "cell_type": "markdown",
   "metadata": {},
   "source": [
    "ejercicio 7\n",
    "Given the participants' score sheet for your University Sports Day, you are required to find the runner-up score. You are given  scores. Store them in a list and find the score of the runner-up.\n",
    "\n",
    "Input Format\n",
    "\n",
    "The first line contains . The second line contains an array   of  integers each separated by a space."
   ]
  },
  {
   "cell_type": "code",
   "execution_count": 15,
   "metadata": {},
   "outputs": [
    {
     "name": "stdout",
     "output_type": "stream",
     "text": [
      "[98, 98, 78, 75, 56]\n",
      "El sub-campeon obtuvo la puntuacionde 78\n"
     ]
    }
   ],
   "source": [
    "\n",
    "arr = map(int, input().split())\n",
    "\n",
    "def subCampeon(arr):\n",
    "     arr =list(arr)\n",
    "     sortedList=sorted(arr)\n",
    "     sortedList.reverse()\n",
    "\n",
    "     i=0\n",
    "     while True:\n",
    "     \n",
    "          if sortedList[i]>sortedList[i+1]:\n",
    "           print(f\"El sub-campeon obtuvo la puntuacionde {sortedList[i+1]}\")\n",
    "           break\n",
    "\n",
    "          i+=1\n",
    "\n",
    "subCampeon(arr)\n",
    "     \n",
    "    \n",
    " "
   ]
  },
  {
   "cell_type": "markdown",
   "metadata": {},
   "source": [
    "Ejercicio 8, matrices"
   ]
  },
  {
   "cell_type": "code",
   "execution_count": null,
   "metadata": {},
   "outputs": [
    {
     "name": "stdout",
     "output_type": "stream",
     "text": [
      "['harry', 'berry']\n"
     ]
    }
   ],
   "source": [
    "alumnos=[]\n",
    "for _ in range(int(input())):\n",
    "        name = input()\n",
    "        score = float(input())\n",
    "        alumnos.append([name,score])\n",
    "\n",
    "\n",
    "# notas=list(map(lambda x:x*2,alumnos))\n",
    "notas=[]\n",
    "for i in range(0,len(alumnos)):\n",
    " for j in range(1,len(alumnos[i])):\n",
    "  notas.append(alumnos[i][j])\n",
    "\n",
    "notas.sort()\n",
    "m=0\n",
    "p=0\n",
    "salida=[]\n",
    "while True:\n",
    "  if notas[m]<notas[m+1]:\n",
    "   for alumno in alumnos:\n",
    "     if notas[m+1]==alumno[1]:\n",
    "      salida.append(alumno[0])\n",
    "   break\n",
    "  m+=1\n",
    "  p+=1 \n",
    "\n",
    "salida.sort()\n",
    "\n",
    "for i in range(len(salida)):\n",
    "  print(salida[i])\n",
    "print(salida)\n"
   ]
  },
  {
   "cell_type": "code",
   "execution_count": 85,
   "metadata": {},
   "outputs": [
    {
     "name": "stdout",
     "output_type": "stream",
     "text": [
      "Notas: [['messi', 10.0], ['ronaldo', 7.0]]\n"
     ]
    }
   ],
   "source": [
    "filas = int(input(\"Cantidad de alumnos: \"))\n",
    "matriz = []\n",
    "\n",
    "for i in range(filas):\n",
    "     name = input(\"Ingresa el nombre del alumno\")\n",
    "     score = float(input(\"Ingresa su nota\"))\n",
    "     matriz.append([name,score])\n",
    "    #  matriz.append(score)\n",
    "\n",
    "print(\"Notas:\", matriz)\n",
    "\n",
    "\n"
   ]
  }
 ],
 "metadata": {
  "kernelspec": {
   "display_name": ".venv",
   "language": "python",
   "name": "python3"
  },
  "language_info": {
   "codemirror_mode": {
    "name": "ipython",
    "version": 3
   },
   "file_extension": ".py",
   "mimetype": "text/x-python",
   "name": "python",
   "nbconvert_exporter": "python",
   "pygments_lexer": "ipython3",
   "version": "3.13.1"
  }
 },
 "nbformat": 4,
 "nbformat_minor": 2
}
