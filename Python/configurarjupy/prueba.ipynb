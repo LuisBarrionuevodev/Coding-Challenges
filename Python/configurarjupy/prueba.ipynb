{
 "cells": [
  {
   "cell_type": "code",
   "execution_count": 1,
   "metadata": {},
   "outputs": [
    {
     "name": "stdout",
     "output_type": "stream",
     "text": [
      "Versión de Python: 3.13.1 (tags/v3.13.1:0671451, Dec  3 2024, 19:06:28) [MSC v.1942 64 bit (AMD64)]\n",
      "¡Jupyter en VSCode está listo!\n"
     ]
    }
   ],
   "source": [
    "import sys\n",
    "print(f\"Versión de Python: {sys.version}\")\n",
    "print(\"¡Jupyter en VSCode está listo!\")\n"
   ]
  },
  {
   "cell_type": "markdown",
   "metadata": {},
   "source": [
    "\"\"ejercice 6\n",
    "The included code stub will read an integer, , from STDIN.\n",
    "\n",
    "Without using any string methods, try to print the following:\n",
    "\n",
    "\n",
    "Note that \"\" represents the consecutive values in between.\n",
    "\n",
    "Example\n",
    "n=5\n",
    "\n",
    "Print the string  12345.\n",
    "\"\""
   ]
  },
  {
   "cell_type": "code",
   "execution_count": null,
   "metadata": {},
   "outputs": [
    {
     "name": "stdout",
     "output_type": "stream",
     "text": [
      "12345\n"
     ]
    }
   ],
   "source": [
    "if __name__ == '__main__':\n",
    "    n = int(input(\"Ingresa un numero\"))\n",
    "    \n",
    "\n",
    "def Cuenta(n):\n",
    "    numero=\"\"\n",
    "    for i in range(1,n+1):\n",
    "        temporal=str(i)\n",
    "        numero+=temporal\n",
    "    return print(numero)     \n",
    "            \n",
    "\n",
    "\n",
    "Cuenta(n) "
   ]
  },
  {
   "cell_type": "markdown",
   "metadata": {},
   "source": [
    "#Encontrar al subcampeon"
   ]
  },
  {
   "cell_type": "code",
   "execution_count": 17,
   "metadata": {},
   "outputs": [
    {
     "name": "stdout",
     "output_type": "stream",
     "text": [
      "76\n"
     ]
    }
   ],
   "source": [
    "\n",
    "\n",
    "arr= [6,2,3,4,5,3,54,25,76,93,1,13]\n",
    "\n",
    "\n",
    "def subcampeon(arr):\n",
    "    sorteada=sorted(arr)\n",
    "    segundo=len(arr)-2\n",
    "    print(sorteada[segundo])\n",
    "\n",
    "\n",
    "\n",
    "\n",
    "subcampeon(arr)"
   ]
  },
  {
   "cell_type": "markdown",
   "metadata": {},
   "source": [
    "ejercicio 7\n",
    "Given the participants' score sheet for your University Sports Day, you are required to find the runner-up score. You are given  scores. Store them in a list and find the score of the runner-up.\n",
    "\n",
    "Input Format\n",
    "\n",
    "The first line contains . The second line contains an array   of  integers each separated by a space."
   ]
  },
  {
   "cell_type": "code",
   "execution_count": 15,
   "metadata": {},
   "outputs": [
    {
     "name": "stdout",
     "output_type": "stream",
     "text": [
      "[98, 98, 78, 75, 56]\n",
      "El sub-campeon obtuvo la puntuacionde 78\n"
     ]
    }
   ],
   "source": [
    "\n",
    "arr = map(int, input().split())\n",
    "\n",
    "def subCampeon(arr):\n",
    "     arr =list(arr)\n",
    "     sortedList=sorted(arr)\n",
    "     sortedList.reverse()\n",
    "\n",
    "     i=0\n",
    "     while True:\n",
    "     \n",
    "          if sortedList[i]>sortedList[i+1]:\n",
    "           print(f\"El sub-campeon obtuvo la puntuacionde {sortedList[i+1]}\")\n",
    "           break\n",
    "\n",
    "          i+=1\n",
    "\n",
    "subCampeon(arr)\n",
    "     \n",
    "    \n",
    " "
   ]
  },
  {
   "cell_type": "markdown",
   "metadata": {},
   "source": [
    "Ejercicio 8, matrices\n",
    "Given the names and grades for each student in a class of N  students, store them in a nested list and print the name(s) of any student(s) having the second lowest grade.\n",
    "\n",
    "Note: If there are multiple students with the second lowest grade, order their names alphabetically and print each name on a new line.\n",
    "\n",
    "Example\n",
    "records=[['Harry', 37.21], ['Berry', 37.21], ['Tina', 37.2], ['Akriti', 41], ['Harsh', 39]]\n",
    "\n",
    "The ordered list of scores is [37.2 ,37.21], so the second lowest score is 37.21. There are two students with that score: berry and harry. Ordered alphabetically, the names are printed as:\n",
    "\n",
    "alpha\n",
    "beta\n",
    "Input Format\n",
    "\n",
    "The first line contains an integer, N , the number of students.\n",
    "The 2N subsequent lines describe each student over 2 lines.\n",
    "- The first line contains a student's name.\n",
    "- The second line contains their grade.\n",
    "Output Format\n",
    "\n",
    "Print the name(s) of any student(s) having the second lowest grade in. If there are multiple students, order their names alphabetically and print each one on a new line."
   ]
  },
  {
   "cell_type": "code",
   "execution_count": 2,
   "metadata": {},
   "outputs": [
    {
     "name": "stdout",
     "output_type": "stream",
     "text": [
      "teo\n"
     ]
    }
   ],
   "source": [
    "alumnos=[]\n",
    "### este for sirve para hacer una entrada de manera personalizada, y luego \n",
    "#  ls guarda en la matriz alumnos\n",
    "for _ in range(int(input())): \n",
    "        name = input() \n",
    "        score = float(input())\n",
    "        alumnos.append([name,score])\n",
    "\n",
    "\n",
    "notas=[]\n",
    "# for para meter las notas en la lista notas\n",
    "for i in range(0,len(alumnos)): ## en este for se recorre a todos alumno\n",
    " for j in range(1,len(alumnos[i])):## en este for se recorre  a cada alumno empezando por la nota h\n",
    "                                   #hasta su logitud\n",
    "  notas.append(alumnos[i][j]) ##se va llenando el array notas con solo las notas\n",
    "\n",
    "notas.sort() ## se ordena las notas\n",
    "m=0\n",
    "p=0\n",
    "salida=[]\n",
    "while True: ## se implementa un falso do while   \n",
    "  if notas[m]<notas[m+1]: # este for es para que encuentre la segunda nota mas baja\n",
    "   for alumno in alumnos:\n",
    "     if notas[m+1]==alumno[1]:\n",
    "      salida.append(alumno[0])\n",
    "   break\n",
    "  m+=1\n",
    "  p+=1 \n",
    "\n",
    "salida.sort()\n",
    "\n",
    "for i in range(len(salida)):\n",
    "  print(salida[i])\n",
    "\n"
   ]
  },
  {
   "cell_type": "code",
   "execution_count": null,
   "metadata": {},
   "outputs": [
    {
     "ename": "ValueError",
     "evalue": "invalid literal for int() with base 10: 'messi'",
     "output_type": "error",
     "traceback": [
      "\u001b[1;31m---------------------------------------------------------------------------\u001b[0m",
      "\u001b[1;31mValueError\u001b[0m                                Traceback (most recent call last)",
      "Cell \u001b[1;32mIn[2], line 4\u001b[0m\n\u001b[0;32m      1\u001b[0m alumnos\u001b[38;5;241m=\u001b[39m[]\n\u001b[0;32m      2\u001b[0m \u001b[38;5;66;03m### este for sirve para hacer una entrada de manera personalizada, y luego \u001b[39;00m\n\u001b[0;32m      3\u001b[0m \u001b[38;5;66;03m#  ls guarda en la matriz alumnos\u001b[39;00m\n\u001b[1;32m----> 4\u001b[0m \u001b[38;5;28;01mfor\u001b[39;00m _ \u001b[38;5;129;01min\u001b[39;00m \u001b[38;5;28mrange\u001b[39m(\u001b[38;5;28;43mint\u001b[39;49m\u001b[43m(\u001b[49m\u001b[38;5;28;43minput\u001b[39;49m\u001b[43m(\u001b[49m\u001b[43m)\u001b[49m\u001b[43m)\u001b[49m): \n\u001b[0;32m      5\u001b[0m         name \u001b[38;5;241m=\u001b[39m \u001b[38;5;28minput\u001b[39m() \n\u001b[0;32m      6\u001b[0m         score \u001b[38;5;241m=\u001b[39m \u001b[38;5;28mfloat\u001b[39m(\u001b[38;5;28minput\u001b[39m())\n",
      "\u001b[1;31mValueError\u001b[0m: invalid literal for int() with base 10: 'messi'"
     ]
    }
   ],
   "source": [
    "alumnos=[]\n",
    "### este for sirve para hacer una entrada de manera personalizada, y luego \n",
    "#  ls guarda en la matriz alumnos\n",
    "for _ in range(int(input())): \n",
    "        name = input() \n",
    "        score = float(input())\n",
    "        alumnos.append([name,score])\n",
    "matrizOrdenada = sorted(alumnos,key =lambda x: x[1])\n",
    "\n",
    "i=0\n",
    "segundo=[]\n",
    "while True:\n",
    "    if matrizOrdenada[i][1]<= matrizOrdenada[i+1][1]:\n",
    "          segundo.append(matrizOrdenada[i+1][0])\n",
    "          break\n",
    "    i+=1 \n",
    "\n",
    "print(segundo)    "
   ]
  },
  {
   "cell_type": "code",
   "execution_count": 1,
   "metadata": {},
   "outputs": [
    {
     "ename": "ValueError",
     "evalue": "invalid literal for int() with base 10: 'a'",
     "output_type": "error",
     "traceback": [
      "\u001b[1;31m---------------------------------------------------------------------------\u001b[0m",
      "\u001b[1;31mValueError\u001b[0m                                Traceback (most recent call last)",
      "Cell \u001b[1;32mIn[1], line 9\u001b[0m\n\u001b[0;32m      7\u001b[0m  notas\u001b[38;5;241m=\u001b[39m[]\n\u001b[0;32m      8\u001b[0m  \u001b[38;5;28;01mfor\u001b[39;00m f \u001b[38;5;129;01min\u001b[39;00m \u001b[38;5;28mrange\u001b[39m(\u001b[38;5;241m3\u001b[39m):\n\u001b[1;32m----> 9\u001b[0m     notas\u001b[38;5;241m.\u001b[39mappend(\u001b[38;5;28;43mint\u001b[39;49m\u001b[43m(\u001b[49m\u001b[38;5;28;43minput\u001b[39;49m\u001b[43m(\u001b[49m\u001b[38;5;124;43mf\u001b[39;49m\u001b[38;5;124;43m\"\u001b[39;49m\u001b[38;5;124;43mingrese la nota nr \u001b[39;49m\u001b[38;5;132;43;01m{\u001b[39;49;00m\u001b[43mf\u001b[49m\u001b[38;5;241;43m+\u001b[39;49m\u001b[38;5;241;43m1\u001b[39;49m\u001b[38;5;132;43;01m}\u001b[39;49;00m\u001b[38;5;124;43m\"\u001b[39;49m\u001b[43m)\u001b[49m\u001b[43m)\u001b[49m)\n\u001b[0;32m     10\u001b[0m  alumnos[nombre]\u001b[38;5;241m=\u001b[39mnotas\n\u001b[0;32m     12\u001b[0m query\u001b[38;5;241m=\u001b[39m\u001b[38;5;28minput\u001b[39m(\u001b[38;5;124m\"\u001b[39m\u001b[38;5;124mIngresa el nombre del alumno al que quieras promediarle la nota\u001b[39m\u001b[38;5;124m\"\u001b[39m) \n",
      "\u001b[1;31mValueError\u001b[0m: invalid literal for int() with base 10: 'a'"
     ]
    }
   ],
   "source": [
    "n = int(input())\n",
    "alumnos={}\n",
    "suma=0\n",
    "\n",
    "for i in range(n): \n",
    " nombre=input(f\"Ingrese el nombre del alumno nr {i+1}\")\n",
    " notas=[]\n",
    " for f in range(3):\n",
    "    notas.append(int(input(f\"ingrese la nota nr {f+1}\")))\n",
    " alumnos[nombre]=notas\n",
    "\n",
    "query=input(\"Ingresa el nombre del alumno al que quieras promediarle la nota\") \n",
    "for datos in alumnos.items():\n",
    "  alumno=datos[0]\n",
    "  notas=datos[1]\n",
    "\n",
    "  if alumno ==query:\n",
    "   for nota in notas:\n",
    "      suma+=nota\n",
    "   promedio= suma/3 \n",
    "   print(alumno)\n",
    "   print(\"y su suma de notas es son\")\n",
    "   print(promedio) \n",
    "    \n",
    "\n",
    " "
   ]
  },
  {
   "cell_type": "code",
   "execution_count": null,
   "metadata": {},
   "outputs": [
    {
     "ename": "IndexError",
     "evalue": "list index out of range",
     "output_type": "error",
     "traceback": [
      "\u001b[1;31m---------------------------------------------------------------------------\u001b[0m",
      "\u001b[1;31mIndexError\u001b[0m                                Traceback (most recent call last)",
      "Cell \u001b[1;32mIn[4], line 7\u001b[0m\n\u001b[0;32m      5\u001b[0m     datos\u001b[38;5;241m=\u001b[39m \u001b[38;5;28minput\u001b[39m()\u001b[38;5;241m.\u001b[39msplit()\n\u001b[0;32m      6\u001b[0m     nombres\u001b[38;5;241m=\u001b[39m datos[\u001b[38;5;241m0\u001b[39m]\n\u001b[1;32m----> 7\u001b[0m     notas \u001b[38;5;241m=\u001b[39m [\u001b[38;5;28mfloat\u001b[39m(\u001b[43mdatos\u001b[49m\u001b[43m[\u001b[49m\u001b[38;5;241;43m1\u001b[39;49m\u001b[43m]\u001b[49m), \u001b[38;5;28mfloat\u001b[39m(datos[\u001b[38;5;241m2\u001b[39m]), \u001b[38;5;28mfloat\u001b[39m(datos[\u001b[38;5;241m3\u001b[39m])] \n\u001b[0;32m      8\u001b[0m     alumnos[nombres]\u001b[38;5;241m=\u001b[39mnotas\n\u001b[0;32m     10\u001b[0m query \u001b[38;5;241m=\u001b[39m \u001b[38;5;28minput\u001b[39m()\n",
      "\u001b[1;31mIndexError\u001b[0m: list index out of range"
     ]
    }
   ],
   "source": [
    "n= int(input())\n",
    "alumno ={}\n",
    "\n",
    "for i in range(n):\n",
    "    datos= input().split()\n",
    "    nombres= datos[0]\n",
    "    for f in range(3):\n",
    "     notas.append(int(float(f\"ingrese la nota nr {f+1}\")))\n",
    " alumnos[nombre]=notas\n",
    " \n",
    "\n",
    "query = input()\n",
    "notas= alumnos[query]\n",
    "promedio =sum(notas)/3\n",
    "\n",
    "print(f\"promedio:{promedio}\")\n",
    "\n",
    "\n",
    "\n"
   ]
  }
 ],
 "metadata": {
  "kernelspec": {
   "display_name": "Python 3",
   "language": "python",
   "name": "python3"
  },
  "language_info": {
   "codemirror_mode": {
    "name": "ipython",
    "version": 3
   },
   "file_extension": ".py",
   "mimetype": "text/x-python",
   "name": "python",
   "nbconvert_exporter": "python",
   "pygments_lexer": "ipython3",
   "version": "3.13.1"
  }
 },
 "nbformat": 4,
 "nbformat_minor": 2
}
