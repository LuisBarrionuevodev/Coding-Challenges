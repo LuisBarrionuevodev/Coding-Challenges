{
 "cells": [
  {
   "cell_type": "code",
   "execution_count": 3,
   "metadata": {},
   "outputs": [
    {
     "name": "stdout",
     "output_type": "stream",
     "text": [
      "Versión de Python: 3.13.1 (tags/v3.13.1:0671451, Dec  3 2024, 19:06:28) [MSC v.1942 64 bit (AMD64)]\n",
      "¡Jupyter en VSCode está listo!\n"
     ]
    }
   ],
   "source": [
    "import sys\n",
    "print(f\"Versión de Python: {sys.version}\")\n",
    "print(\"¡Jupyter en VSCode está listo!\")\n"
   ]
  },
  {
   "cell_type": "markdown",
   "metadata": {},
   "source": [
    "\"\"ejercice 6\n",
    "The included code stub will read an integer, , from STDIN.\n",
    "\n",
    "Without using any string methods, try to print the following:\n",
    "\n",
    "\n",
    "Note that \"\" represents the consecutive values in between.\n",
    "\n",
    "Example\n",
    "n=5\n",
    "\n",
    "Print the string  12345.\n",
    "\"\""
   ]
  },
  {
   "cell_type": "code",
   "execution_count": null,
   "metadata": {},
   "outputs": [
    {
     "name": "stdout",
     "output_type": "stream",
     "text": [
      "12345\n"
     ]
    }
   ],
   "source": [
    "if __name__ == '__main__':\n",
    "    n = int(input(\"Ingresa un numero\"))\n",
    "    \n",
    "\n",
    "def Cuenta(n):\n",
    "    numero=\"\"\n",
    "    for i in range(1,n+1):\n",
    "        temporal=str(i)\n",
    "        numero+=temporal\n",
    "    return print(numero)     \n",
    "            \n",
    "\n",
    "\n",
    "Cuenta(n) "
   ]
  },
  {
   "cell_type": "markdown",
   "metadata": {},
   "source": [
    "#Encontrar al subcampeon"
   ]
  },
  {
   "cell_type": "code",
   "execution_count": 17,
   "metadata": {},
   "outputs": [
    {
     "name": "stdout",
     "output_type": "stream",
     "text": [
      "76\n"
     ]
    }
   ],
   "source": [
    "\n",
    "\n",
    "arr= [6,2,3,4,5,3,54,25,76,93,1,13]\n",
    "\n",
    "\n",
    "def subcampeon(arr):\n",
    "    sorteada=sorted(arr)\n",
    "    segundo=len(arr)-2\n",
    "    print(sorteada[segundo])\n",
    "\n",
    "\n",
    "\n",
    "\n",
    "subcampeon(arr)"
   ]
  },
  {
   "cell_type": "markdown",
   "metadata": {},
   "source": [
    "ejercicio 7\n",
    "Given the participants' score sheet for your University Sports Day, you are required to find the runner-up score. You are given  scores. Store them in a list and find the score of the runner-up.\n",
    "\n",
    "Input Format\n",
    "\n",
    "The first line contains . The second line contains an array   of  integers each separated by a space."
   ]
  },
  {
   "cell_type": "code",
   "execution_count": 15,
   "metadata": {},
   "outputs": [
    {
     "name": "stdout",
     "output_type": "stream",
     "text": [
      "[98, 98, 78, 75, 56]\n",
      "El sub-campeon obtuvo la puntuacionde 78\n"
     ]
    }
   ],
   "source": [
    "\n",
    "arr = map(int, input().split())\n",
    "\n",
    "def subCampeon(arr):\n",
    "     arr =list(arr)\n",
    "     sortedList=sorted(arr)\n",
    "     sortedList.reverse()\n",
    "\n",
    "     i=0\n",
    "     while True:\n",
    "     \n",
    "          if sortedList[i]>sortedList[i+1]:\n",
    "           print(f\"El sub-campeon obtuvo la puntuacionde {sortedList[i+1]}\")\n",
    "           break\n",
    "\n",
    "          i+=1\n",
    "\n",
    "subCampeon(arr)\n",
    "     \n",
    "    \n",
    " "
   ]
  },
  {
   "cell_type": "markdown",
   "metadata": {},
   "source": [
    "Ejercicio 8, matrices\n",
    "Given the names and grades for each student in a class of N  students, store them in a nested list and print the name(s) of any student(s) having the second lowest grade.\n",
    "\n",
    "Note: If there are multiple students with the second lowest grade, order their names alphabetically and print each name on a new line.\n",
    "\n",
    "Example\n",
    "records=[['Harry', 37.21], ['Berry', 37.21], ['Tina', 37.2], ['Akriti', 41], ['Harsh', 39]]\n",
    "\n",
    "The ordered list of scores is [37.2 ,37.21], so the second lowest score is 37.21. There are two students with that score: berry and harry. Ordered alphabetically, the names are printed as:\n",
    "\n",
    "alpha\n",
    "beta\n",
    "Input Format\n",
    "\n",
    "The first line contains an integer, N , the number of students.\n",
    "The 2N subsequent lines describe each student over 2 lines.\n",
    "- The first line contains a student's name.\n",
    "- The second line contains their grade.\n",
    "Output Format\n",
    "\n",
    "Print the name(s) of any student(s) having the second lowest grade in. If there are multiple students, order their names alphabetically and print each one on a new line."
   ]
  },
  {
   "cell_type": "code",
   "execution_count": 8,
   "metadata": {},
   "outputs": [
    {
     "ename": "IndexError",
     "evalue": "list index out of range",
     "output_type": "error",
     "traceback": [
      "\u001b[1;31m---------------------------------------------------------------------------\u001b[0m",
      "\u001b[1;31mIndexError\u001b[0m                                Traceback (most recent call last)",
      "Cell \u001b[1;32mIn[8], line 25\u001b[0m\n\u001b[0;32m     23\u001b[0m  \u001b[38;5;28;01mfor\u001b[39;00m alumno \u001b[38;5;129;01min\u001b[39;00m alumnos:\n\u001b[0;32m     24\u001b[0m    \u001b[38;5;28;01mif\u001b[39;00m notas[m\u001b[38;5;241m+\u001b[39m\u001b[38;5;241m1\u001b[39m]\u001b[38;5;241m==\u001b[39malumno[\u001b[38;5;241m1\u001b[39m]:\n\u001b[1;32m---> 25\u001b[0m     salida\u001b[38;5;241m.\u001b[39mappend(\u001b[43malumno\u001b[49m\u001b[43m[\u001b[49m\u001b[38;5;241;43m2\u001b[39;49m\u001b[43m]\u001b[49m)\n\u001b[0;32m     26\u001b[0m  \u001b[38;5;28;01mbreak\u001b[39;00m\n\u001b[0;32m     27\u001b[0m m\u001b[38;5;241m+\u001b[39m\u001b[38;5;241m=\u001b[39m\u001b[38;5;241m1\u001b[39m\n",
      "\u001b[1;31mIndexError\u001b[0m: list index out of range"
     ]
    }
   ],
   "source": [
    "alumnos=[]\n",
    "### este for sirve para hacer una entrada de manera personalizada, y luego \n",
    "#  ls guarda en la matriz alumnos\n",
    "for _ in range(int(input())): \n",
    "        name = input() \n",
    "        score = float(input())\n",
    "        alumnos.append([name,score])\n",
    "\n",
    "\n",
    "notas=[]\n",
    "# for para meter las notas en la lista notas\n",
    "for i in range(0,len(alumnos)): ## en este for se recorre a todos alumno\n",
    " for j in range(1,len(alumnos[i])):## en este for se recorre  a cada alumno empezando por la nota h\n",
    "                                   #hasta su logitud\n",
    "  notas.append(alumnos[i][j]) ##se va llenando el array notas con solo las notas\n",
    "\n",
    "notas.sort() ## se ordena las notas\n",
    "m=0\n",
    "p=0\n",
    "salida=[]\n",
    "while True: ## se implementa un falso do while   \n",
    "  if notas[m]<notas[m+1]: # este for es para que encuentre la segunda nota mas baja\n",
    "   for alumno in alumnos:\n",
    "     if notas[m+1]==alumno[1]:\n",
    "      salida.append(alumno[0])\n",
    "   break\n",
    "  m+=1\n",
    "  p+=1 \n",
    "\n",
    "salida.sort()\n",
    "\n",
    "for i in range(len(salida)):\n",
    "  print(salida[i])\n",
    "\n"
   ]
  },
  {
   "cell_type": "code",
   "execution_count": 2,
   "metadata": {},
   "outputs": [
    {
     "name": "stdout",
     "output_type": "stream",
     "text": [
      "['messi']\n"
     ]
    }
   ],
   "source": [
    "alumnos=[]\n",
    "### este for sirve para hacer una entrada de manera personalizada, y luego \n",
    "#  ls guarda en la matriz alumnos\n",
    "for _ in range(int(input())): \n",
    "        name = input() \n",
    "        score = float(input())\n",
    "        alumnos.append([name,score])\n",
    "matrizOrdenada = sorted(alumnos,key =lambda x: x[1])\n",
    "\n",
    "i=0\n",
    "segundo=[]\n",
    "while True:\n",
    "    if matrizOrdenada[i][1]<= matrizOrdenada[i+1][1]:\n",
    "          segundo.append(matrizOrdenada[i+1][0])\n",
    "          break\n",
    "    i+=1 \n",
    "\n",
    "print(segundo)    "
   ]
  }
 ],
 "metadata": {
  "kernelspec": {
   "display_name": ".venv",
   "language": "python",
   "name": "python3"
  },
  "language_info": {
   "codemirror_mode": {
    "name": "ipython",
    "version": 3
   },
   "file_extension": ".py",
   "mimetype": "text/x-python",
   "name": "python",
   "nbconvert_exporter": "python",
   "pygments_lexer": "ipython3",
   "version": "3.13.1"
  }
 },
 "nbformat": 4,
 "nbformat_minor": 2
}
