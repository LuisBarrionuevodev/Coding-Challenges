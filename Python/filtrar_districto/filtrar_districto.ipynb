{
 "cells": [
  {
   "cell_type": "code",
   "execution_count": 1,
   "id": "33f1836f",
   "metadata": {},
   "outputs": [
    {
     "name": "stdout",
     "output_type": "stream",
     "text": [
      "Requirement already satisfied: pandas in c:\\users\\pablo\\appdata\\local\\programs\\python\\python313\\lib\\site-packages (2.2.3)\n",
      "Requirement already satisfied: openpyxl in c:\\users\\pablo\\appdata\\local\\programs\\python\\python313\\lib\\site-packages (3.1.5)\n",
      "Collecting shapely\n",
      "  Downloading shapely-2.1.1-cp313-cp313-win_amd64.whl.metadata (7.0 kB)\n",
      "Requirement already satisfied: numpy>=1.26.0 in c:\\users\\pablo\\appdata\\local\\programs\\python\\python313\\lib\\site-packages (from pandas) (2.2.2)\n",
      "Requirement already satisfied: python-dateutil>=2.8.2 in c:\\users\\pablo\\appdata\\roaming\\python\\python313\\site-packages (from pandas) (2.9.0.post0)\n",
      "Requirement already satisfied: pytz>=2020.1 in c:\\users\\pablo\\appdata\\local\\programs\\python\\python313\\lib\\site-packages (from pandas) (2025.1)\n",
      "Requirement already satisfied: tzdata>=2022.7 in c:\\users\\pablo\\appdata\\local\\programs\\python\\python313\\lib\\site-packages (from pandas) (2025.1)\n",
      "Requirement already satisfied: et-xmlfile in c:\\users\\pablo\\appdata\\local\\programs\\python\\python313\\lib\\site-packages (from openpyxl) (2.0.0)\n",
      "Requirement already satisfied: six>=1.5 in c:\\users\\pablo\\appdata\\roaming\\python\\python313\\site-packages (from python-dateutil>=2.8.2->pandas) (1.17.0)\n",
      "Downloading shapely-2.1.1-cp313-cp313-win_amd64.whl (1.7 MB)\n",
      "   ---------------------------------------- 0.0/1.7 MB ? eta -:--:--\n",
      "   ---------------------------------------- 1.7/1.7 MB 16.0 MB/s eta 0:00:00\n",
      "Installing collected packages: shapely\n",
      "Successfully installed shapely-2.1.1\n",
      "Note: you may need to restart the kernel to use updated packages.\n"
     ]
    }
   ],
   "source": [
    "pip install pandas openpyxl shapely\n"
   ]
  },
  {
   "cell_type": "code",
   "execution_count": 8,
   "id": "10d2fadd",
   "metadata": {},
   "outputs": [
    {
     "name": "stdout",
     "output_type": "stream",
     "text": [
      "✅ Se exportaron 285 puntos dentro del Distrito 15.\n"
     ]
    }
   ],
   "source": [
    "import pandas as pd\n",
    "from shapely.geometry import Point, Polygon\n",
    "\n",
    "# 1. Coordenadas del polígono del Distrito 15\n",
    "coordenadas_distrito_15 = [\n",
    "    (-65.228634, -26.862296), (-65.2274581, -26.8623902), (-65.2259817, -26.8624844),\n",
    "    (-65.2245096, -26.8627495), (-65.223325, -26.8629924), (-65.2225409, -26.8631316),\n",
    "    (-65.2219596, -26.8633024), (-65.2211566, -26.8633545), (-65.2207144, -26.8635259),\n",
    "    (-65.220214, -26.8635367), (-65.2208827, -26.8654954), (-65.221138, -26.866482),\n",
    "    (-65.2191161, -26.8668016), (-65.216543, -26.867214), (-65.2147802, -26.8675886),\n",
    "    (-65.213709, -26.867835), (-65.2127599, -26.8680207), (-65.210833, -26.868323),\n",
    "    (-65.2090275, -26.8656818), (-65.2074811, -26.8633084), (-65.2069646, -26.8634617),\n",
    "    (-65.2056128, -26.8615667), (-65.2035821, -26.8608005), (-65.2029677, -26.8586943),\n",
    "    (-65.2026011, -26.8571523), (-65.2022178, -26.8559527), (-65.201579, -26.853698),\n",
    "    (-65.200628, -26.849737), (-65.199678, -26.84576), (-65.199603, -26.845451),\n",
    "    (-65.199584, -26.845297), (-65.200651, -26.845048), (-65.200601, -26.844596),\n",
    "    (-65.218482, -26.84118), (-65.222168, -26.855252), (-65.22301, -26.856942),\n",
    "    (-65.223736, -26.857607), (-65.2243197, -26.8580847), (-65.2262885, -26.8598026),\n",
    "    (-65.2275089, -26.8607668), (-65.2280119, -26.8615169), (-65.2283706, -26.8619302),\n",
    "    (-65.228634, -26.862296)\n",
    "]\n",
    "poligono = Polygon(coordenadas_distrito_15)\n",
    "\n",
    "# 2. Leer el archivo\n",
    "df = pd.read_excel(\"datos_originales.xlsx\")\n",
    "\n",
    "# 3. Limpiar nombres de columnas\n",
    "df.columns = df.columns.str.strip()\n",
    "\n",
    "# 4. Forzar conversión de lat/lon a float (coercing errores como \"Error\" a NaN)\n",
    "df[\"Latitud\"] = pd.to_numeric(df[\"Latitud\"], errors=\"coerce\")\n",
    "df[\"Longitud\"] = pd.to_numeric(df[\"Longitud\"], errors=\"coerce\")\n",
    "\n",
    "# 5. Eliminar filas con lat/lon inválidos\n",
    "df = df.dropna(subset=[\"Latitud\", \"Longitud\"])\n",
    "\n",
    "# 6. Verificar si cada punto está dentro del polígono\n",
    "df[\"Dentro Distrito 15\"] = df.apply(\n",
    "    lambda row: poligono.contains(Point(row[\"Longitud\"], row[\"Latitud\"])),\n",
    "    axis=1\n",
    ")\n",
    "\n",
    "# 7. Filtrar puntos que están dentro\n",
    "df_distrito15 = df[df[\"Dentro Distrito 15\"]].drop(columns=[\"Dentro Distrito 15\"])\n",
    "\n",
    "# 8. Exportar resultados\n",
    "df_distrito15.to_excel(\"puntos_dentro_distrito15.xlsx\", index=False)\n",
    "\n",
    "print(f\"✅ Se exportaron {len(df_distrito15)} puntos dentro del Distrito 15.\")\n",
    "\n"
   ]
  },
  {
   "cell_type": "code",
   "execution_count": 3,
   "id": "1a404b61",
   "metadata": {},
   "outputs": [
    {
     "name": "stdout",
     "output_type": "stream",
     "text": [
      "['Fecha', 'Direccion', 'Procedimiento Destacado', 'Latitud ', 'Longitud']\n"
     ]
    }
   ],
   "source": [
    "import pandas as pd\n",
    "\n",
    "df = pd.read_excel(\"datos_originales.xlsx\")\n",
    "print(df.columns.tolist())\n"
   ]
  },
  {
   "cell_type": "code",
   "execution_count": 6,
   "id": "afb86885",
   "metadata": {},
   "outputs": [
    {
     "name": "stdout",
     "output_type": "stream",
     "text": [
      "Collecting geopy\n",
      "  Downloading geopy-2.4.1-py3-none-any.whl.metadata (6.8 kB)\n",
      "Collecting geographiclib<3,>=1.52 (from geopy)\n",
      "  Downloading geographiclib-2.0-py3-none-any.whl.metadata (1.4 kB)\n",
      "Downloading geopy-2.4.1-py3-none-any.whl (125 kB)\n",
      "Downloading geographiclib-2.0-py3-none-any.whl (40 kB)\n",
      "Installing collected packages: geographiclib, geopy\n",
      "\n",
      "   ---------------------------------------- 0/2 [geographiclib]\n",
      "   -------------------- ------------------- 1/2 [geopy]\n",
      "   -------------------- ------------------- 1/2 [geopy]\n",
      "   -------------------- ------------------- 1/2 [geopy]\n",
      "   -------------------- ------------------- 1/2 [geopy]\n",
      "   -------------------- ------------------- 1/2 [geopy]\n",
      "   -------------------- ------------------- 1/2 [geopy]\n",
      "   ---------------------------------------- 2/2 [geopy]\n",
      "\n",
      "Successfully installed geographiclib-2.0 geopy-2.4.1\n",
      "Note: you may need to restart the kernel to use updated packages.\n"
     ]
    }
   ],
   "source": [
    "pip install geopy\n"
   ]
  },
  {
   "cell_type": "code",
   "execution_count": 9,
   "id": "26847d90",
   "metadata": {},
   "outputs": [
    {
     "name": "stdout",
     "output_type": "stream",
     "text": [
      "✅ Archivo generado: puntos_con_cantidad_afectada.xlsx (total: 232 filas)\n"
     ]
    }
   ],
   "source": [
    "import pandas as pd\n",
    "from geopy.distance import geodesic\n",
    "\n",
    "# 1. Cargar el archivo filtrado previamente\n",
    "archivo = \"puntos_dentro_distrito15.xlsx\"\n",
    "df = pd.read_excel(archivo)\n",
    "\n",
    "# 2. Asegurar que no haya espacios en los nombres de columna\n",
    "df.columns = df.columns.str.strip()\n",
    "\n",
    "# 3. Separar los relevamientos y los otros\n",
    "df_relevamiento = df[df[\"Procedimiento Destacado\"].str.contains(\"Relevamiento\", case=False, na=False)].copy()\n",
    "df_otros = df[~df.index.isin(df_relevamiento.index)].copy()\n",
    "\n",
    "# 4. Inicializar columna para marcar agrupados\n",
    "df_relevamiento[\"agrupado\"] = False\n",
    "agrupados = []\n",
    "\n",
    "# 5. Definir la tolerancia (en metros) para puntos cercanos\n",
    "tolerancia_metros = 15\n",
    "\n",
    "# 6. Agrupar puntos cercanos entre sí\n",
    "for idx, row in df_relevamiento.iterrows():\n",
    "    if df_relevamiento.at[idx, \"agrupado\"]:\n",
    "        continue\n",
    "\n",
    "    punto_base = (row[\"Latitud\"], row[\"Longitud\"])\n",
    "    grupo = [idx]\n",
    "    df_relevamiento.at[idx, \"agrupado\"] = True\n",
    "\n",
    "    for jdx, row2 in df_relevamiento.iterrows():\n",
    "        if idx == jdx or df_relevamiento.at[jdx, \"agrupado\"]:\n",
    "            continue\n",
    "\n",
    "        punto_comp = (row2[\"Latitud\"], row2[\"Longitud\"])\n",
    "        distancia = geodesic(punto_base, punto_comp).meters\n",
    "\n",
    "        if distancia <= tolerancia_metros:\n",
    "            grupo.append(jdx)\n",
    "            df_relevamiento.at[jdx, \"agrupado\"] = True\n",
    "\n",
    "    fila_resultado = df_relevamiento.loc[idx].copy()\n",
    "    fila_resultado[\"Cantidad afectada\"] = len(grupo)\n",
    "    agrupados.append(fila_resultado)\n",
    "\n",
    "# 7. Crear DataFrame con relevamientos agrupados\n",
    "df_relevamientos_agrupados = pd.DataFrame(agrupados).drop(columns=[\"agrupado\"])\n",
    "\n",
    "# 8. Para los otros procedimientos, asignar \"Cantidad afectada\" = 1\n",
    "df_otros[\"Cantidad afectada\"] = 1\n",
    "\n",
    "# 9. Unir relevamientos agrupados con los demás procedimientos\n",
    "df_final = pd.concat([df_relevamientos_agrupados, df_otros], ignore_index=True)\n",
    "\n",
    "# 10. Exportar archivo final\n",
    "df_final.to_excel(\"puntos_con_cantidad_afectada.xlsx\", index=False)\n",
    "\n",
    "print(f\"✅ Archivo generado: puntos_con_cantidad_afectada.xlsx (total: {len(df_final)} filas)\")\n"
   ]
  },
  {
   "cell_type": "code",
   "execution_count": 10,
   "id": "abadceeb",
   "metadata": {},
   "outputs": [
    {
     "name": "stdout",
     "output_type": "stream",
     "text": [
      "Requirement already satisfied: pandas in c:\\users\\pablo\\appdata\\local\\programs\\python\\python313\\lib\\site-packages (2.2.3)\n",
      "Requirement already satisfied: shapely in c:\\users\\pablo\\appdata\\local\\programs\\python\\python313\\lib\\site-packages (2.1.1)\n",
      "Requirement already satisfied: openpyxl in c:\\users\\pablo\\appdata\\local\\programs\\python\\python313\\lib\\site-packages (3.1.5)\n",
      "Requirement already satisfied: numpy>=1.26.0 in c:\\users\\pablo\\appdata\\local\\programs\\python\\python313\\lib\\site-packages (from pandas) (2.2.2)\n",
      "Requirement already satisfied: python-dateutil>=2.8.2 in c:\\users\\pablo\\appdata\\roaming\\python\\python313\\site-packages (from pandas) (2.9.0.post0)\n",
      "Requirement already satisfied: pytz>=2020.1 in c:\\users\\pablo\\appdata\\local\\programs\\python\\python313\\lib\\site-packages (from pandas) (2025.1)\n",
      "Requirement already satisfied: tzdata>=2022.7 in c:\\users\\pablo\\appdata\\local\\programs\\python\\python313\\lib\\site-packages (from pandas) (2025.1)\n",
      "Requirement already satisfied: et-xmlfile in c:\\users\\pablo\\appdata\\local\\programs\\python\\python313\\lib\\site-packages (from openpyxl) (2.0.0)\n",
      "Requirement already satisfied: six>=1.5 in c:\\users\\pablo\\appdata\\roaming\\python\\python313\\site-packages (from python-dateutil>=2.8.2->pandas) (1.17.0)\n",
      "Note: you may need to restart the kernel to use updated packages.\n"
     ]
    }
   ],
   "source": [
    "pip install pandas shapely openpyxl\n"
   ]
  },
  {
   "cell_type": "code",
   "execution_count": 11,
   "id": "fbf64b55",
   "metadata": {},
   "outputs": [
    {
     "name": "stdout",
     "output_type": "stream",
     "text": [
      "✅ Archivo exportado con 232 puntos y columna 'Barrio' agregada.\n"
     ]
    }
   ],
   "source": [
    "import pandas as pd\n",
    "from shapely.geometry import Point\n",
    "from shapely.wkt import loads as load_wkt\n",
    "\n",
    "# --- 1. Definir los polígonos por barrio ---\n",
    "poligonos = {\n",
    "    \"AMPLIACION VILLA ALEM\": load_wkt(\"POLYGON ((-65.2048 -26.855388, -65.202604 -26.855857, -65.2023 -26.855294, -65.202173 -26.855057, -65.201932 -26.854611, -65.201751 -26.854086, -65.20156 -26.853533, -65.215786 -26.850142, -65.216669 -26.852873, -65.213528 -26.853586, -65.21031 -26.854289, -65.207177 -26.85507, -65.20568 -26.855197, -65.2048 -26.855388))\"),\n",
    "    \"EGEO\": load_wkt(\"POLYGON ((-65.214337 -26.857495, -65.211169 -26.858049, -65.210612 -26.855591, -65.213745 -26.854882, -65.214337 -26.857495))\"),\n",
    "    \"CAPITAN GIACHINO\": load_wkt(\"POLYGON ((-65.212049 -26.861903, -65.212043 -26.861872, -65.211724 -26.860547, -65.215344 -26.859935, -65.215475 -26.859979, -65.217237 -26.859607, -65.21803 -26.859367, -65.218839 -26.859122, -65.219003 -26.8597, -65.219186 -26.860342, -65.219445 -26.861131, -65.212202 -26.862527, -65.212049 -26.861903))\"),\n",
    "    \"VILLA ALEM\": load_wkt(\"POLYGON ((-65.219426 -26.853764, -65.217056 -26.854221, -65.216629 -26.852907, -65.215744 -26.850176, -65.20152 -26.853567, -65.199524 -26.845291, -65.200611 -26.845044, -65.20054 -26.844622, -65.206538 -26.843461, -65.218557 -26.841073, -65.219863 -26.846525, -65.220263 -26.847838, -65.218239 -26.848254, -65.217168 -26.848475, -65.217524 -26.849889, -65.218648 -26.849634, -65.220561 -26.8492, -65.220902 -26.850577, -65.218248 -26.851115, -65.218923 -26.852345, -65.219249 -26.853112, -65.219426 -26.853764))\"),\n",
    "    \"VILLA AMALIA\": load_wkt(\"POLYGON ((-65.213929 -26.857564, -65.214326 -26.857495, -65.2179 -26.856701, -65.21822 -26.857499, -65.218257 -26.857593, -65.218476 -26.857543, -65.219709 -26.857282, -65.222421 -26.856813, -65.222587 -26.857124, -65.222734 -26.857542, -65.222024 -26.857617, -65.221478 -26.857825, -65.221119 -26.857961, -65.219955 -26.858454, -65.218828 -26.859122, -65.218427 -26.859243, -65.217664 -26.859475, -65.217226 -26.859607, -65.217121 -26.859222, -65.216616 -26.859286, -65.216377 -26.859289, -65.216043 -26.859291, -65.215596 -26.859184, -65.215257 -26.858942, -65.214826 -26.859036, -65.214696 -26.858529, -65.214165 -26.858656, -65.21378 -26.858749, -65.213736 -26.858544, -65.21368 -26.8583, -65.213663 -26.858212, -65.213654 -26.858169, -65.213601 -26.857927, -65.212794 -26.858045, -65.212861 -26.858403, -65.212918 -26.858705, -65.21296 -26.858927, -65.212183 -26.8591, -65.212205 -26.859239, -65.212252 -26.85953, -65.211861 -26.859632, -65.211538 -26.859716, -65.211713 -26.860547, -65.212032 -26.861872, -65.207085 -26.862843, -65.206345 -26.861629, -65.205726 -26.860678, -65.204879 -26.859377, -65.202593 -26.855857, -65.204372 -26.855477, -65.205669 -26.855197, -65.207166 -26.85507, -65.210299 -26.854289, -65.213517 -26.853586, -65.216658 -26.852873, -65.217084 -26.854187, -65.213734 -26.854882, -65.210601 -26.855591, -65.211158 -26.858049, -65.213929 -26.857564))\"),  # abreviado por espacio\n",
    "    \"BLAS VICTORIO CONRERO\": load_wkt(\"POLYGON ((-65.221909 -26.854367, -65.22194 -26.854454, -65.222048 -26.854751, -65.222392 -26.855702, -65.223112 -26.856999, -65.222598 -26.857124, -65.222432 -26.856813, -65.219616 -26.857304, -65.218487 -26.857543, -65.218636 -26.856802, -65.218709 -26.856444, -65.218772 -26.856293, -65.218835 -26.856142, -65.218926 -26.855928, -65.219063 -26.855659, -65.219118 -26.855552, -65.219229 -26.855336, -65.219796 -26.855186, -65.219605 -26.854384, -65.219472 -26.853742, -65.220474 -26.853961, -65.221089 -26.854135, -65.221909 -26.854367))\"),\n",
    "    \"SOLDADO GUANCA\": load_wkt(\"POLYGON ((-65.212805 -26.858045, -65.213612 -26.857927, -65.213626 -26.857991, -65.213674 -26.858212, -65.213791 -26.858749, -65.214206 -26.858649, -65.214707 -26.858529, -65.214819 -26.858971, -65.214837 -26.859036, -65.215268 -26.858942, -65.215607 -26.859184, -65.215832 -26.859238, -65.216012 -26.859291, -65.216096 -26.859291, -65.216627 -26.859286, -65.217132 -26.859222, -65.217197 -26.859462, -65.217237 -26.859607, -65.215475 -26.859979, -65.215344 -26.859926, -65.214479 -26.860082, -65.213934 -26.860174, -65.213204 -26.860297, -65.211724 -26.860547, -65.211598 -26.859948, -65.211549 -26.859716, -65.212263 -26.85953, -65.212194 -26.8591, -65.212971 -26.858927, -65.212872 -26.858403, -65.212805 -26.858045))\"),\n",
    "    \"76 VIVIENDAS(Ex Refinor)\": load_wkt(\"POLYGON ((-65.218279 -26.84822, -65.219555 -26.847958, -65.220302 -26.847804, -65.2206 -26.849166, -65.218687 -26.8496, -65.217564 -26.849855, -65.217207 -26.848441, -65.218279 -26.84822))\"),\n",
    "    \"SARGENTO LAI\": load_wkt(\"POLYGON ((-65.220941 -26.850543, -65.221909 -26.854367, -65.219465 -26.85373, -65.219288 -26.853078, -65.218962 -26.852311, -65.218287 -26.851081, -65.220941 -26.850543))\"),\n",
    "    \"JUDICIAL\": load_wkt(\"POLYGON ((-65.219465 -26.853768, -65.219796 -26.855186, -65.219229 -26.855336, -65.219063 -26.855659, -65.218709 -26.856444, -65.218476 -26.857543, -65.218257 -26.857593, -65.2179 -26.856701, -65.214337 -26.857495, -65.213745 -26.854882, -65.219465 -26.853768))\"),\n",
    "    \"AMPLIACION VILLA AMALIA\": load_wkt(\"POLYGON ((-65.212202 -26.862527, -65.212434 -26.863658, -65.212586 -26.864298, -65.210545 -26.864751, -65.208911 -26.865079, -65.208596 -26.864543, -65.208352 -26.864629, -65.207096 -26.862843, -65.212043 -26.861872, -65.212202 -26.862527))\"),\n",
    "    \"SAN JUSTO\": load_wkt(\"POLYGON ((-65.212434 -26.863658, -65.212202 -26.862527, -65.219461 -26.861129, -65.219872 -26.862285, -65.212434 -26.863658))\"),\n",
    "    \"IRIGOYEN (DIZA)\": load_wkt(\"POLYGON ((-65.212586 -26.864298, -65.212434 -26.863658, -65.219872 -26.862285, -65.220308 -26.863603, -65.220997 -26.865688, -65.213234 -26.867181, -65.212822 -26.86535, -65.212586 -26.864298))\"),\n",
    "    \"AMPLIACION EL GRAFICO\": load_wkt(\"POLYGON ((-65.220664 -26.865753, -65.220997 -26.865688, -65.221095 -26.866236, -65.221138 -26.866482, -65.220634 -26.866574, -65.218958 -26.866879, -65.218331 -26.866993, -65.217412 -26.86716, -65.216648 -26.867299, -65.215146 -26.867573, -65.213709 -26.867835, -65.213417 -26.867888, -65.213234 -26.867181, -65.214818 -26.866882, -65.216363 -26.866578, -65.217903 -26.866284, -65.220664 -26.865753))\"),\n",
    "    \"CAPITAN VIOLA\": load_wkt(\"POLYGON ((-65.212586 -26.864298, -65.212757 -26.865058, -65.213061 -26.866411, -65.213234 -26.867181, -65.213417 -26.867888, -65.21316 -26.867931, -65.211881 -26.868147, -65.210833 -26.868323, -65.210481 -26.867798, -65.210072 -26.86719, -65.209727 -26.866675, -65.209537 -26.866392, -65.208352 -26.864629, -65.208596 -26.864543, -65.208911 -26.865079, -65.212586 -26.864298))\"),\n",
    "    \"OLLEROS\": load_wkt(\"POLYGON ((-65.223112 -26.856999, -65.223736 -26.857607, -65.223212 -26.857608, -65.223577 -26.858353, -65.22381 -26.858279, -65.224074 -26.858766, -65.224315 -26.859184, -65.223838 -26.859298, -65.223103 -26.859477, -65.222595 -26.859584, -65.222129 -26.859702, -65.22131 -26.859896, -65.220478 -26.860089, -65.219186 -26.860342, -65.218957 -26.859538, -65.218839 -26.859122, -65.219966 -26.858454, -65.220041 -26.858423, -65.22113 -26.857961, -65.222035 -26.857617, -65.222197 -26.8576, -65.222745 -26.857542, -65.222598 -26.857124, -65.223112 -26.856999))\"),\n",
    "    \"SAN NICOLAS\": load_wkt(\"POLYGON ((-65.224455 -26.859492, -65.224597 -26.859774, -65.224997 -26.860571, -65.225461 -26.862634, -65.220308 -26.863603, -65.219872 -26.862285, -65.219186 -26.860342, -65.219866 -26.860208, -65.220478 -26.860089, -65.22131 -26.859896, -65.222723 -26.859557, -65.224303 -26.859188, -65.224455 -26.859492))\"),\n",
    "    \"AMPLIACION SAN NICOLAS\": load_wkt(\"POLYGON ((-65.223736 -26.857607, -65.225096 -26.858747, -65.227214 -26.860543, -65.227875 -26.861227, -65.228279 -26.861736, -65.228634 -26.862296, -65.227399 -26.862535, -65.226526 -26.862437, -65.225461 -26.862634, -65.224997 -26.860571, -65.224303 -26.859188, -65.22381 -26.858279, -65.223577 -26.858353, -65.223212 -26.857608, -65.223736 -26.857607))\"),\n",
    "}\n",
    "\n",
    "# --- 2. Cargar archivo con puntos ---\n",
    "df = pd.read_excel(\"puntos_con_cantidad_afectada.xlsx\")\n",
    "df.columns = df.columns.str.strip()\n",
    "df[\"Latitud\"] = pd.to_numeric(df[\"Latitud\"], errors=\"coerce\")\n",
    "df[\"Longitud\"] = pd.to_numeric(df[\"Longitud\"], errors=\"coerce\")\n",
    "df = df.dropna(subset=[\"Latitud\", \"Longitud\"])\n",
    "\n",
    "# --- 3. Asignar barrio a cada punto ---\n",
    "def asignar_barrio(lat, lon):\n",
    "    punto = Point(lon, lat)\n",
    "    for nombre_barrio, poligono in poligonos.items():\n",
    "        if poligono.contains(punto):\n",
    "            return nombre_barrio\n",
    "    return \"Fuera de los barrios\"\n",
    "\n",
    "df[\"Barrio\"] = df.apply(lambda row: asignar_barrio(row[\"Latitud\"], row[\"Longitud\"]), axis=1)\n",
    "\n",
    "# --- 4. Exportar resultado ---\n",
    "df.to_excel(\"puntos_con_barrios.xlsx\", index=False)\n",
    "print(f\"✅ Archivo exportado con {len(df)} puntos y columna 'Barrio' agregada.\")\n"
   ]
  },
  {
   "cell_type": "code",
   "execution_count": 15,
   "id": "a1651a5d",
   "metadata": {},
   "outputs": [
    {
     "name": "stdout",
     "output_type": "stream",
     "text": [
      "✅ Archivo final exportado: 'intervenciones_formato_final.xlsx'\n"
     ]
    }
   ],
   "source": [
    "import pandas as pd\n",
    "import re\n",
    "\n",
    "# 1. Cargar archivo de puntos ya procesado con barrios\n",
    "df = pd.read_excel(\"puntos_con_barrios.xlsx\")\n",
    "\n",
    "# 2. Función corregida para extraer solo el nombre de la calle (sin altura ni intersección)\n",
    "def extraer_calle(direccion):\n",
    "    direccion = str(direccion).strip()\n",
    "    match = re.match(r\"^(.*?)(\\s\\d+\\b| y\\b| y\\.| Y\\.| Y\\b)\", direccion)\n",
    "    if match:\n",
    "        return match.group(1).strip().title()\n",
    "    else:\n",
    "        return direccion.split(\",\")[0].strip().title()\n",
    "\n",
    "# 3. Función para extraer número o calle de la intersección\n",
    "def extraer_interseccion(direccion):\n",
    "    direccion = str(direccion).strip()\n",
    "    if \" y \" in direccion.lower():\n",
    "        parte = direccion.lower().split(\" y \")[-1].split(\",\")[0].strip()\n",
    "        return parte.split()[0].title() if parte else \"\"\n",
    "    elif \" y.\" in direccion.lower():\n",
    "        parte = direccion.lower().split(\" y. \")[-1].split(\",\")[0].strip()\n",
    "        return parte.split()[0].title() if parte else \"\"\n",
    "    elif \" y\" in direccion.lower():\n",
    "        parte = direccion.lower().split(\" y\")[-1].split(\",\")[0].strip()\n",
    "        return parte.split()[0].title() if parte else \"\"\n",
    "    else:\n",
    "        partes = direccion.split(\",\")[0].split()\n",
    "        if partes:\n",
    "            ultima = partes[-1]\n",
    "            return ultima if ultima.isdigit() else ultima.title()\n",
    "        return \"\"\n",
    "\n",
    "# 4. Aplicar ambas funciones\n",
    "df[\"Direccion_Calle\"] = df[\"Direccion\"].apply(extraer_calle)\n",
    "df[\"Direccion_Numero_Interseccion\"] = df[\"Direccion\"].apply(extraer_interseccion)\n",
    "\n",
    "# 5. Crear DataFrame final\n",
    "df_final = pd.DataFrame({\n",
    "    \"ID_Punto\": \"\",\n",
    "    \"Tipo_Intervencion_ID\": \"18\",\n",
    "    \"Subtipo_Intervencion_ID\": \"todos\",\n",
    "    \"Descripcion_Detallada\": df[\"Procedimiento Destacado\"],\n",
    "    \"Latitud\": df[\"Latitud\"],\n",
    "    \"Longitud\": df[\"Longitud\"],\n",
    "    \"Direccion_Calle\": df[\"Direccion_Calle\"],\n",
    "    \"Direccion_Numero_Interseccion\": df[\"Direccion_Numero_Interseccion\"],\n",
    "    \"Barrio_ID\": df[\"Barrio\"],\n",
    "    \"Distrito_ID\": \"15\",\n",
    "    \"Fecha_Realizacion\": df[\"Fecha\"],\n",
    "    \"Cantidad_Afectada\": df[\"Cantidad afectada\"],\n",
    "    \"Unidad_Medida\": \"locales gastronómicos\",\n",
    "    \"Estado_Actual\": \"completados\",\n",
    "    \"Responsable_Direccion_ID\": \"18\",\n",
    "    \"Notas_Adicionales\": \"\"\n",
    "})\n",
    "\n",
    "# 6. Exportar a Excel\n",
    "df_final.to_excel(\"intervenciones_formato_final.xlsx\", index=False)\n",
    "print(\"✅ Archivo final exportado: 'intervenciones_formato_final.xlsx'\")\n",
    "\n"
   ]
  },
  {
   "cell_type": "code",
   "execution_count": 16,
   "id": "1cb4744f",
   "metadata": {},
   "outputs": [
    {
     "name": "stdout",
     "output_type": "stream",
     "text": [
      "Collecting foliumNote: you may need to restart the kernel to use updated packages.\n",
      "\n",
      "  Downloading folium-0.20.0-py2.py3-none-any.whl.metadata (4.2 kB)\n",
      "Requirement already satisfied: pandas in c:\\users\\pablo\\appdata\\local\\programs\\python\\python313\\lib\\site-packages (2.2.3)\n",
      "Collecting branca>=0.6.0 (from folium)\n",
      "  Downloading branca-0.8.1-py3-none-any.whl.metadata (1.5 kB)\n",
      "Collecting jinja2>=2.9 (from folium)\n",
      "  Downloading jinja2-3.1.6-py3-none-any.whl.metadata (2.9 kB)\n",
      "Requirement already satisfied: numpy in c:\\users\\pablo\\appdata\\local\\programs\\python\\python313\\lib\\site-packages (from folium) (2.2.2)\n",
      "Requirement already satisfied: requests in c:\\users\\pablo\\appdata\\local\\programs\\python\\python313\\lib\\site-packages (from folium) (2.32.3)\n",
      "Collecting xyzservices (from folium)\n",
      "  Downloading xyzservices-2025.4.0-py3-none-any.whl.metadata (4.3 kB)\n",
      "Requirement already satisfied: python-dateutil>=2.8.2 in c:\\users\\pablo\\appdata\\roaming\\python\\python313\\site-packages (from pandas) (2.9.0.post0)\n",
      "Requirement already satisfied: pytz>=2020.1 in c:\\users\\pablo\\appdata\\local\\programs\\python\\python313\\lib\\site-packages (from pandas) (2025.1)\n",
      "Requirement already satisfied: tzdata>=2022.7 in c:\\users\\pablo\\appdata\\local\\programs\\python\\python313\\lib\\site-packages (from pandas) (2025.1)\n",
      "Collecting MarkupSafe>=2.0 (from jinja2>=2.9->folium)\n",
      "  Downloading MarkupSafe-3.0.2-cp313-cp313-win_amd64.whl.metadata (4.1 kB)\n",
      "Requirement already satisfied: six>=1.5 in c:\\users\\pablo\\appdata\\roaming\\python\\python313\\site-packages (from python-dateutil>=2.8.2->pandas) (1.17.0)\n",
      "Requirement already satisfied: charset-normalizer<4,>=2 in c:\\users\\pablo\\appdata\\local\\programs\\python\\python313\\lib\\site-packages (from requests->folium) (3.4.2)\n",
      "Requirement already satisfied: idna<4,>=2.5 in c:\\users\\pablo\\appdata\\local\\programs\\python\\python313\\lib\\site-packages (from requests->folium) (3.10)\n",
      "Requirement already satisfied: urllib3<3,>=1.21.1 in c:\\users\\pablo\\appdata\\local\\programs\\python\\python313\\lib\\site-packages (from requests->folium) (2.4.0)\n",
      "Requirement already satisfied: certifi>=2017.4.17 in c:\\users\\pablo\\appdata\\local\\programs\\python\\python313\\lib\\site-packages (from requests->folium) (2025.1.31)\n",
      "Downloading folium-0.20.0-py2.py3-none-any.whl (113 kB)\n",
      "Downloading branca-0.8.1-py3-none-any.whl (26 kB)\n",
      "Downloading jinja2-3.1.6-py3-none-any.whl (134 kB)\n",
      "Downloading MarkupSafe-3.0.2-cp313-cp313-win_amd64.whl (15 kB)\n",
      "Downloading xyzservices-2025.4.0-py3-none-any.whl (90 kB)\n",
      "Installing collected packages: xyzservices, MarkupSafe, jinja2, branca, folium\n",
      "\n",
      "   ---------------- ----------------------- 2/5 [jinja2]\n",
      "   ---------------- ----------------------- 2/5 [jinja2]\n",
      "   ---------------- ----------------------- 2/5 [jinja2]\n",
      "   ---------------- ----------------------- 2/5 [jinja2]\n",
      "   ------------------------ --------------- 3/5 [branca]\n",
      "   -------------------------------- ------- 4/5 [folium]\n",
      "   -------------------------------- ------- 4/5 [folium]\n",
      "   -------------------------------- ------- 4/5 [folium]\n",
      "   -------------------------------- ------- 4/5 [folium]\n",
      "   -------------------------------- ------- 4/5 [folium]\n",
      "   -------------------------------- ------- 4/5 [folium]\n",
      "   ---------------------------------------- 5/5 [folium]\n",
      "\n",
      "Successfully installed MarkupSafe-3.0.2 branca-0.8.1 folium-0.20.0 jinja2-3.1.6 xyzservices-2025.4.0\n"
     ]
    }
   ],
   "source": [
    "pip install folium pandas\n"
   ]
  },
  {
   "cell_type": "code",
   "execution_count": 18,
   "id": "cfb6e87a",
   "metadata": {},
   "outputs": [
    {
     "name": "stdout",
     "output_type": "stream",
     "text": [
      "✅ Mapa exportado como 'mapa_inspecciones.html'\n"
     ]
    }
   ],
   "source": [
    "import pandas as pd\n",
    "import folium\n",
    "\n",
    "# 1. Cargar el archivo con datos ya procesados\n",
    "df = pd.read_excel(\"intervenciones_formato_final.xlsx\")\n",
    "\n",
    "# 2. Crear el mapa centrado en San Miguel de Tucumán\n",
    "mapa = folium.Map(location=[-26.833, -65.216], zoom_start=13)\n",
    "\n",
    "# 3. Agregar cada punto como marcador circular\n",
    "for _, row in df.iterrows():\n",
    "    direccion = row.get(\"Direccion_Calle\", \"Sin dirección\")\n",
    "    barrio = row.get(\"Barrio_ID\", \"Sin barrio\")\n",
    "\n",
    "    folium.CircleMarker(\n",
    "        location=[row[\"Latitud\"], row[\"Longitud\"]],\n",
    "        radius=5,\n",
    "        color=\"blue\",\n",
    "        fill=True,\n",
    "        fill_color=\"blue\",\n",
    "        fill_opacity=0.6,\n",
    "        popup=folium.Popup(f\"{direccion}<br><b>Barrio:</b> {barrio}\", max_width=300)\n",
    "    ).add_to(mapa)\n",
    "\n",
    "# 4. Guardar el mapa en un archivo HTML\n",
    "mapa.save(\"mapa_inspecciones.html\")\n",
    "print(\"✅ Mapa exportado como 'mapa_inspecciones.html'\")\n"
   ]
  },
  {
   "cell_type": "code",
   "execution_count": 19,
   "id": "1c37f4bd",
   "metadata": {},
   "outputs": [
    {
     "name": "stdout",
     "output_type": "stream",
     "text": [
      "Requirement already satisfied: shapely in c:\\users\\pablo\\appdata\\local\\programs\\python\\python313\\lib\\site-packages (2.1.1)\n",
      "Requirement already satisfied: folium in c:\\users\\pablo\\appdata\\local\\programs\\python\\python313\\lib\\site-packages (0.20.0)\n",
      "Requirement already satisfied: pandas in c:\\users\\pablo\\appdata\\local\\programs\\python\\python313\\lib\\site-packages (2.2.3)\n",
      "Requirement already satisfied: numpy>=1.21 in c:\\users\\pablo\\appdata\\local\\programs\\python\\python313\\lib\\site-packages (from shapely) (2.2.2)\n",
      "Requirement already satisfied: branca>=0.6.0 in c:\\users\\pablo\\appdata\\local\\programs\\python\\python313\\lib\\site-packages (from folium) (0.8.1)\n",
      "Requirement already satisfied: jinja2>=2.9 in c:\\users\\pablo\\appdata\\local\\programs\\python\\python313\\lib\\site-packages (from folium) (3.1.6)\n",
      "Requirement already satisfied: requests in c:\\users\\pablo\\appdata\\local\\programs\\python\\python313\\lib\\site-packages (from folium) (2.32.3)\n",
      "Requirement already satisfied: xyzservices in c:\\users\\pablo\\appdata\\local\\programs\\python\\python313\\lib\\site-packages (from folium) (2025.4.0)\n",
      "Requirement already satisfied: python-dateutil>=2.8.2 in c:\\users\\pablo\\appdata\\roaming\\python\\python313\\site-packages (from pandas) (2.9.0.post0)\n",
      "Requirement already satisfied: pytz>=2020.1 in c:\\users\\pablo\\appdata\\local\\programs\\python\\python313\\lib\\site-packages (from pandas) (2025.1)\n",
      "Requirement already satisfied: tzdata>=2022.7 in c:\\users\\pablo\\appdata\\local\\programs\\python\\python313\\lib\\site-packages (from pandas) (2025.1)\n",
      "Requirement already satisfied: MarkupSafe>=2.0 in c:\\users\\pablo\\appdata\\local\\programs\\python\\python313\\lib\\site-packages (from jinja2>=2.9->folium) (3.0.2)\n",
      "Requirement already satisfied: six>=1.5 in c:\\users\\pablo\\appdata\\roaming\\python\\python313\\site-packages (from python-dateutil>=2.8.2->pandas) (1.17.0)\n",
      "Requirement already satisfied: charset-normalizer<4,>=2 in c:\\users\\pablo\\appdata\\local\\programs\\python\\python313\\lib\\site-packages (from requests->folium) (3.4.2)\n",
      "Requirement already satisfied: idna<4,>=2.5 in c:\\users\\pablo\\appdata\\local\\programs\\python\\python313\\lib\\site-packages (from requests->folium) (3.10)\n",
      "Requirement already satisfied: urllib3<3,>=1.21.1 in c:\\users\\pablo\\appdata\\local\\programs\\python\\python313\\lib\\site-packages (from requests->folium) (2.4.0)\n",
      "Requirement already satisfied: certifi>=2017.4.17 in c:\\users\\pablo\\appdata\\local\\programs\\python\\python313\\lib\\site-packages (from requests->folium) (2025.1.31)\n",
      "Note: you may need to restart the kernel to use updated packages.\n"
     ]
    }
   ],
   "source": [
    "pip install shapely folium pandas\n"
   ]
  },
  {
   "cell_type": "code",
   "execution_count": 20,
   "id": "712ad9ae",
   "metadata": {},
   "outputs": [
    {
     "name": "stdout",
     "output_type": "stream",
     "text": [
      "✅ Mapa generado como 'mapa_con_poligonos.html'\n"
     ]
    }
   ],
   "source": [
    "import pandas as pd\n",
    "import folium\n",
    "from shapely.wkt import loads as load_wkt\n",
    "from shapely.geometry import mapping\n",
    "\n",
    "# 1. Leer puntos desde archivo\n",
    "df = pd.read_excel(\"intervenciones_formato_final.xlsx\")\n",
    "\n",
    "# 2. Crear mapa centrado en San Miguel de Tucumán\n",
    "mapa = folium.Map(location=[-26.833, -65.216], zoom_start=13)\n",
    "\n",
    "# 3. Agregar puntos\n",
    "for _, row in df.iterrows():\n",
    "    direccion = row.get(\"Direccion_Calle\", \"Sin dirección\")\n",
    "    barrio = row.get(\"Barrio_ID\", \"Sin barrio\")\n",
    "\n",
    "    folium.CircleMarker(\n",
    "        location=[row[\"Latitud\"], row[\"Longitud\"]],\n",
    "        radius=5,\n",
    "        color=\"blue\",\n",
    "        fill=True,\n",
    "        fill_color=\"blue\",\n",
    "        fill_opacity=0.6,\n",
    "        popup=folium.Popup(f\"{direccion}<br><b>Barrio:</b> {barrio}\", max_width=300)\n",
    "    ).add_to(mapa)\n",
    "\n",
    "# 4. Agregar polígonos de barrios\n",
    "for nombre, poligono in poligonos.items():\n",
    "    coords = [[lat, lon] for lon, lat in poligono.exterior.coords]\n",
    "    folium.Polygon(\n",
    "        locations=coords,\n",
    "        color=\"red\",\n",
    "        fill=True,\n",
    "        fill_color=\"red\",\n",
    "        fill_opacity=0.1,\n",
    "        weight=2,\n",
    "        popup=f\"{nombre}\"\n",
    "    ).add_to(mapa)\n",
    "\n",
    "# 5. Guardar como archivo HTML\n",
    "mapa.save(\"mapa_con_poligonos.html\")\n",
    "print(\"✅ Mapa generado como 'mapa_con_poligonos.html'\")\n"
   ]
  }
 ],
 "metadata": {
  "kernelspec": {
   "display_name": "Python 3",
   "language": "python",
   "name": "python3"
  },
  "language_info": {
   "codemirror_mode": {
    "name": "ipython",
    "version": 3
   },
   "file_extension": ".py",
   "mimetype": "text/x-python",
   "name": "python",
   "nbconvert_exporter": "python",
   "pygments_lexer": "ipython3",
   "version": "3.13.5"
  }
 },
 "nbformat": 4,
 "nbformat_minor": 5
}
