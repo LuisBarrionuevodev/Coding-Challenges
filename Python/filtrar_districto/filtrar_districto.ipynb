{
 "cells": [
  {
   "cell_type": "code",
   "execution_count": 32,
   "id": "33f1836f",
   "metadata": {},
   "outputs": [
    {
     "name": "stdout",
     "output_type": "stream",
     "text": [
      "Requirement already satisfied: pandas in c:\\users\\pablo\\appdata\\local\\programs\\python\\python313\\lib\\site-packages (2.2.3)\n",
      "Requirement already satisfied: openpyxl in c:\\users\\pablo\\appdata\\local\\programs\\python\\python313\\lib\\site-packages (3.1.5)\n",
      "Requirement already satisfied: shapely in c:\\users\\pablo\\appdata\\local\\programs\\python\\python313\\lib\\site-packages (2.1.1)\n",
      "Requirement already satisfied: numpy>=1.26.0 in c:\\users\\pablo\\appdata\\local\\programs\\python\\python313\\lib\\site-packages (from pandas) (2.2.2)\n",
      "Requirement already satisfied: python-dateutil>=2.8.2 in c:\\users\\pablo\\appdata\\roaming\\python\\python313\\site-packages (from pandas) (2.9.0.post0)\n",
      "Requirement already satisfied: pytz>=2020.1 in c:\\users\\pablo\\appdata\\local\\programs\\python\\python313\\lib\\site-packages (from pandas) (2025.1)\n",
      "Requirement already satisfied: tzdata>=2022.7 in c:\\users\\pablo\\appdata\\local\\programs\\python\\python313\\lib\\site-packages (from pandas) (2025.1)\n",
      "Requirement already satisfied: et-xmlfile in c:\\users\\pablo\\appdata\\local\\programs\\python\\python313\\lib\\site-packages (from openpyxl) (2.0.0)\n",
      "Requirement already satisfied: six>=1.5 in c:\\users\\pablo\\appdata\\roaming\\python\\python313\\site-packages (from python-dateutil>=2.8.2->pandas) (1.17.0)\n",
      "Note: you may need to restart the kernel to use updated packages.\n"
     ]
    },
    {
     "name": "stderr",
     "output_type": "stream",
     "text": [
      "\n",
      "[notice] A new release of pip is available: 25.1.1 -> 25.2\n",
      "[notice] To update, run: python.exe -m pip install --upgrade pip\n"
     ]
    }
   ],
   "source": [
    "pip install pandas openpyxl shapely\n"
   ]
  },
  {
   "cell_type": "code",
   "execution_count": 2,
   "id": "10d2fadd",
   "metadata": {},
   "outputs": [
    {
     "name": "stdout",
     "output_type": "stream",
     "text": [
      "✅ Se exportaron 33 puntos dentro del Distrito 19.\n"
     ]
    }
   ],
   "source": [
    "import pandas as pd\n",
    "from shapely.geometry import Point, Polygon\n",
    "from shapely.wkt import loads as load_wkt\n",
    "\n",
    "# 1. Coordenadas del polígono del Distrito 5\n",
    "coordenadas_distrito_19 = {\n",
    "   \"districto19\": load_wkt (\"POLYGON ((-65.2221135 -26.8577649, -65.2232936 -26.8572289, -65.2337221 -26.8656132, -65.2302459 -26.8682165, -65.2303747 -26.8744564, -65.2178005 -26.8765235, -65.2068785 -26.8636033, -65.2194527 -26.8609808, -65.219045 -26.8589134, -65.2221135 -26.8577649))\")\n",
    "}\n",
    "\n",
    "coordenadas=coordenadas_distrito_19[\"districto19\"]\n",
    "poligono = Polygon(coordenadas)\n",
    "\n",
    "# 2. Leer el archivo\n",
    "df = pd.read_excel(\"datos_originales.xlsx\")\n",
    "\n",
    "# 3. Limpiar nombres de columnas\n",
    "df.columns = df.columns.str.strip()\n",
    "\n",
    "# 4. Forzar conversión de lat/lon a float (coercing errores como \"Error\" a NaN)\n",
    "df[\"Latitud\"] = pd.to_numeric(df[\"Latitud\"], errors=\"coerce\")\n",
    "df[\"Longitud\"] = pd.to_numeric(df[\"Longitud\"], errors=\"coerce\")\n",
    "\n",
    "# 5. Eliminar filas con lat/lon inválidos\n",
    "df = df.dropna(subset=[\"Latitud\", \"Longitud\"])\n",
    "\n",
    "# 6. Verificar si cada punto está dentro del polígono\n",
    "df[\"Dentro Distrito 19\"] = df.apply(\n",
    "    lambda row: poligono.contains(Point(row[\"Longitud\"], row[\"Latitud\"])),\n",
    "    axis=1\n",
    ")\n",
    "\n",
    "# 7. Filtrar puntos que están dentro\n",
    "df_distrito4 = df[df[\"Dentro Distrito 19\"]].drop(columns=[\"Dentro Distrito 19\"])\n",
    "\n",
    "# 8. Exportar resultados\n",
    "df_distrito4.to_excel(\"puntos_dentro_distrito19.xlsx\", index=False)\n",
    "\n",
    "print(f\"✅ Se exportaron {len(df_distrito4)} puntos dentro del Distrito 19.\")\n",
    "\n"
   ]
  },
  {
   "cell_type": "code",
   "execution_count": 3,
   "id": "1a404b61",
   "metadata": {},
   "outputs": [
    {
     "name": "stdout",
     "output_type": "stream",
     "text": [
      "['Fecha', 'Direccion', 'Procedimiento Destacado', 'Latitud ', 'Longitud']\n"
     ]
    }
   ],
   "source": [
    "import pandas as pd\n",
    "\n",
    "df = pd.read_excel(\"datos_originales.xlsx\")\n",
    "print(df.columns.tolist())\n"
   ]
  },
  {
   "cell_type": "code",
   "execution_count": 3,
   "id": "afb86885",
   "metadata": {},
   "outputs": [
    {
     "name": "stdout",
     "output_type": "stream",
     "text": [
      "Requirement already satisfied: geopy in c:\\users\\pablo\\appdata\\local\\programs\\python\\python313\\lib\\site-packages (2.4.1)\n",
      "Requirement already satisfied: geographiclib<3,>=1.52 in c:\\users\\pablo\\appdata\\local\\programs\\python\\python313\\lib\\site-packages (from geopy) (2.0)\n",
      "Note: you may need to restart the kernel to use updated packages.\n"
     ]
    },
    {
     "name": "stderr",
     "output_type": "stream",
     "text": [
      "\n",
      "[notice] A new release of pip is available: 25.1.1 -> 25.2\n",
      "[notice] To update, run: python.exe -m pip install --upgrade pip\n"
     ]
    }
   ],
   "source": [
    "pip install geopy\n"
   ]
  },
  {
   "cell_type": "code",
   "execution_count": 4,
   "id": "26847d90",
   "metadata": {},
   "outputs": [
    {
     "name": "stdout",
     "output_type": "stream",
     "text": [
      "✅ Archivo generado: puntos_con_cantidad_afectada_districto5.xlsx (total: 31 filas)\n"
     ]
    }
   ],
   "source": [
    "import pandas as pd\n",
    "from geopy.distance import geodesic\n",
    "\n",
    "# 1. Cargar el archivo filtrado previamente\n",
    "archivo = \"puntos_dentro_distrito19.xlsx\"\n",
    "df = pd.read_excel(archivo)\n",
    "\n",
    "# 2. Asegurar que no haya espacios en los nombres de columna\n",
    "df.columns = df.columns.str.strip()\n",
    "\n",
    "# 3. Separar los relevamientos y los otros\n",
    "df_relevamiento = df[df[\"Procedimiento Destacado\"].str.contains(\"Relevamiento\", case=False, na=False)].copy()\n",
    "df_otros = df[~df.index.isin(df_relevamiento.index)].copy()\n",
    "\n",
    "# 4. Inicializar columna para marcar agrupados\n",
    "df_relevamiento[\"agrupado\"] = False\n",
    "agrupados = []\n",
    "\n",
    "# 5. Definir la tolerancia (en metros) para puntos cercanos\n",
    "tolerancia_metros = 15\n",
    "\n",
    "# 6. Agrupar puntos cercanos entre sí\n",
    "for idx, row in df_relevamiento.iterrows():\n",
    "    if df_relevamiento.at[idx, \"agrupado\"]:\n",
    "        continue\n",
    "\n",
    "    punto_base = (row[\"Latitud\"], row[\"Longitud\"])\n",
    "    grupo = [idx]\n",
    "    df_relevamiento.at[idx, \"agrupado\"] = True\n",
    "\n",
    "    for jdx, row2 in df_relevamiento.iterrows():\n",
    "        if idx == jdx or df_relevamiento.at[jdx, \"agrupado\"]:\n",
    "            continue\n",
    "\n",
    "        punto_comp = (row2[\"Latitud\"], row2[\"Longitud\"])\n",
    "        distancia = geodesic(punto_base, punto_comp).meters\n",
    "\n",
    "        if distancia <= tolerancia_metros:\n",
    "            grupo.append(jdx)\n",
    "            df_relevamiento.at[jdx, \"agrupado\"] = True\n",
    "\n",
    "    fila_resultado = df_relevamiento.loc[idx].copy()\n",
    "    fila_resultado[\"Cantidad afectada\"] = len(grupo)\n",
    "    agrupados.append(fila_resultado)\n",
    "\n",
    "# 7. Crear DataFrame con relevamientos agrupados\n",
    "df_relevamientos_agrupados = pd.DataFrame(agrupados).drop(columns=[\"agrupado\"])\n",
    "\n",
    "# 8. Para los otros procedimientos, asignar \"Cantidad afectada\" = 1\n",
    "df_otros[\"Cantidad afectada\"] = 1\n",
    "\n",
    "# 9. Unir relevamientos agrupados con los demás procedimientos\n",
    "df_final = pd.concat([df_relevamientos_agrupados, df_otros], ignore_index=True)\n",
    "\n",
    "# 10. Exportar archivo final\n",
    "df_final.to_excel(\"puntos_con_cantidad_afectada_districto19.xlsx\", index=False)\n",
    "\n",
    "print(f\"✅ Archivo generado: puntos_con_cantidad_afectada_districto5.xlsx (total: {len(df_final)} filas)\")\n"
   ]
  },
  {
   "cell_type": "code",
   "execution_count": 43,
   "id": "abadceeb",
   "metadata": {},
   "outputs": [
    {
     "name": "stdout",
     "output_type": "stream",
     "text": [
      "Requirement already satisfied: pandas in c:\\users\\pablo\\appdata\\local\\programs\\python\\python313\\lib\\site-packages (2.2.3)\n",
      "Requirement already satisfied: shapely in c:\\users\\pablo\\appdata\\local\\programs\\python\\python313\\lib\\site-packages (2.1.1)\n",
      "Requirement already satisfied: openpyxl in c:\\users\\pablo\\appdata\\local\\programs\\python\\python313\\lib\\site-packages (3.1.5)\n",
      "Requirement already satisfied: numpy>=1.26.0 in c:\\users\\pablo\\appdata\\local\\programs\\python\\python313\\lib\\site-packages (from pandas) (2.2.2)\n",
      "Requirement already satisfied: python-dateutil>=2.8.2 in c:\\users\\pablo\\appdata\\roaming\\python\\python313\\site-packages (from pandas) (2.9.0.post0)\n",
      "Requirement already satisfied: pytz>=2020.1 in c:\\users\\pablo\\appdata\\local\\programs\\python\\python313\\lib\\site-packages (from pandas) (2025.1)\n",
      "Requirement already satisfied: tzdata>=2022.7 in c:\\users\\pablo\\appdata\\local\\programs\\python\\python313\\lib\\site-packages (from pandas) (2025.1)\n",
      "Requirement already satisfied: et-xmlfile in c:\\users\\pablo\\appdata\\local\\programs\\python\\python313\\lib\\site-packages (from openpyxl) (2.0.0)\n",
      "Requirement already satisfied: six>=1.5 in c:\\users\\pablo\\appdata\\roaming\\python\\python313\\site-packages (from python-dateutil>=2.8.2->pandas) (1.17.0)\n",
      "Note: you may need to restart the kernel to use updated packages.\n"
     ]
    },
    {
     "name": "stderr",
     "output_type": "stream",
     "text": [
      "\n",
      "[notice] A new release of pip is available: 25.1.1 -> 25.2\n",
      "[notice] To update, run: python.exe -m pip install --upgrade pip\n"
     ]
    }
   ],
   "source": [
    "pip install pandas shapely openpyxl\n"
   ]
  },
  {
   "cell_type": "code",
   "execution_count": 5,
   "id": "fbf64b55",
   "metadata": {},
   "outputs": [
    {
     "name": "stdout",
     "output_type": "stream",
     "text": [
      "✅ Archivo exportado con 31 puntos y columna 'Barrio' agregada.\n"
     ]
    }
   ],
   "source": [
    "import pandas as pd\n",
    "from shapely.geometry import Point\n",
    "from shapely.wkt import loads as load_wkt\n",
    "\n",
    "poligonos = {\n",
    "    \"San Alberto\": load_wkt(\"POLYGON ((-65.223368 -26.873962, -65.22215 -26.871274, -65.221655 -26.869594, -65.229601 -26.868538, -65.229562 -26.869313, -65.229597 -26.87067, -65.229219 -26.870695, -65.229152 -26.870704, -65.228251 -26.870834, -65.227865 -26.870889, -65.227606 -26.869576, -65.223624 -26.870139, -65.224598 -26.871316, -65.22494 -26.871916, -65.226046 -26.873478, -65.224774 -26.873708, -65.223368 -26.873962))\"),\n",
    "\n",
    "    \"Parodi\": load_wkt(\"POLYGON ((-65.221138 -26.866482, -65.221655 -26.869594, -65.219916 -26.86992, -65.212761 -26.871263, -65.210833 -26.868323, -65.213417 -26.867888, -65.217925 -26.867067, -65.221138 -26.866482))\"),\n",
    "\n",
    "    \"Villa Angelina\": load_wkt(\"POLYGON ((-65.212761 -26.871263, -65.220454 -26.869819, -65.221655 -26.869594, -65.22215 -26.871274, -65.222536 -26.872128, -65.22091 -26.872434, -65.220911 -26.872431, -65.214509 -26.873649, -65.214284 -26.873561, -65.212761 -26.871263))\"),\n",
    "\n",
    "    \"Jose Hernandez\": load_wkt(\"POLYGON ((-65.227802 -26.870574, -65.227941 -26.871288, -65.227964 -26.871407, -65.228064 -26.871924, -65.228285 -26.873074, -65.227021 -26.873302, -65.226391 -26.873416, -65.226046 -26.873478, -65.225724 -26.873016, -65.225411 -26.872576, -65.225217 -26.872304, -65.22494 -26.871916, -65.224598 -26.871316, -65.223624 -26.870139, -65.224859 -26.869961, -65.226273 -26.869752, -65.227606 -26.869576, -65.227802 -26.870574))\"),\n",
    "\n",
    "    \"CRUCERO ARA GENERAL BELGRANO\": load_wkt(\"POLYGON ((-65.223149 -26.873483, -65.223368 -26.873962, -65.224216 -26.875831, -65.223453 -26.875972, -65.216726 -26.877243, -65.215192 -26.874861, -65.221256 -26.873711, -65.223083 -26.873338, -65.223149 -26.873483))\"),\n",
    "    \"La Canchita\": load_wkt(\"POLYGON ((-65.223006 -26.873168, -65.223083 -26.873338, -65.221275 -26.873707, -65.221215 -26.8735, -65.221122 -26.873173, -65.221035 -26.872869, -65.22091 -26.872434, -65.222536 -26.872128, -65.222814 -26.872743, -65.223006 -26.873168))\"),\n",
    "    \"Palmera Norte\":load_wkt(\"POLYGON ((-65.229618 -26.870649, -65.229584 -26.871203, -65.229571 -26.871564, -65.229573 -26.872601, -65.229579 -26.873521, -65.229581 -26.874367, -65.229757 -26.874804, -65.227514 -26.875233, -65.226138 -26.875483, -65.225327 -26.87563, -65.224433 -26.875792, -65.224216 -26.875831, -65.223957 -26.875245, -65.223679 -26.874618, -65.223368 -26.873962, -65.224774 -26.873708, -65.226046 -26.873478, -65.226391 -26.873416, -65.227021 -26.873302, -65.228285 -26.873074, -65.228064 -26.871924, -65.227964 -26.871407, -65.227865 -26.870889, -65.228251 -26.870834, -65.229152 -26.870704, -65.229219 -26.870695, -65.229618 -26.870649))\"),\n",
    "    \"Ampliacion Villa Angelina\":load_wkt(\"POLYGON ((-65.220905 -26.872441, -65.221268 -26.873701, -65.215192 -26.874861, -65.214504 -26.873715, -65.214509 -26.873649, -65.220905 -26.872441))\"),\n",
    "    \"Villa Marisa\":load_wkt(\"POLYGON ((-65.220905 -26.872441, -65.221268 -26.873701, -65.215192 -26.874861, -65.214504 -26.873715, -65.214509 -26.873649, -65.220905 -26.872441))\")\n",
    "}\n",
    "\n",
    "\n",
    "   \n",
    "\n",
    "# --- 2. Cargar archivo con puntos ---\n",
    "df = pd.read_excel(\"puntos_con_cantidad_afectada_districto19.xlsx\")\n",
    "df.columns = df.columns.str.strip()\n",
    "df[\"Latitud\"] = pd.to_numeric(df[\"Latitud\"], errors=\"coerce\")\n",
    "df[\"Longitud\"] = pd.to_numeric(df[\"Longitud\"], errors=\"coerce\")\n",
    "df = df.dropna(subset=[\"Latitud\", \"Longitud\"])\n",
    "\n",
    "# --- 3. Asignar barrio a cada punto ---\n",
    "def asignar_barrio(lat, lon):\n",
    "    punto = Point(lon, lat)\n",
    "    for nombre_barrio, poligono in poligonos.items():\n",
    "        if poligono.contains(punto):\n",
    "            return nombre_barrio\n",
    "    return \"Fuera de los barrios\"\n",
    "\n",
    "df[\"Barrio\"] = df.apply(lambda row: asignar_barrio(row[\"Latitud\"], row[\"Longitud\"]), axis=1)\n",
    "\n",
    "# --- 4. Exportar resultado ---\n",
    "df.to_excel(\"puntos_con_barrios_districto19.xlsx\", index=False)\n",
    "print(f\"✅ Archivo exportado con {len(df)} puntos y columna 'Barrio' agregada.\")\n"
   ]
  },
  {
   "cell_type": "code",
   "execution_count": 6,
   "id": "a1651a5d",
   "metadata": {},
   "outputs": [
    {
     "name": "stdout",
     "output_type": "stream",
     "text": [
      "✅ Archivo final exportado: 'intervenciones_formato_final_districto19.xlsx'\n"
     ]
    }
   ],
   "source": [
    "import pandas as pd\n",
    "import re\n",
    "\n",
    "# 1. Cargar archivo de puntos ya procesado con barrios\n",
    "df = pd.read_excel(\"puntos_con_barrios_districto19.xlsx\")\n",
    "\n",
    "# 2. Función para extraer el nombre de la calle principal\n",
    "def extraer_calle(direccion):\n",
    "    direccion = str(direccion).strip()\n",
    "    # Caso intersección → lo que está antes del \" y \"\n",
    "    if \" y \" in direccion.lower():\n",
    "        return direccion.split(\" y \")[0].strip().title()\n",
    "    # Caso dirección con número\n",
    "    match = re.match(r\"^(.*?)(\\s\\d+\\b)\", direccion)\n",
    "    if match:\n",
    "        return match.group(1).strip().title()\n",
    "    # Si no hay número ni intersección → devolver todo hasta la coma\n",
    "    return direccion.split(\",\")[0].strip().title()\n",
    "\n",
    "# 3. Función para extraer la segunda calle o número de la dirección\n",
    "def extraer_interseccion(direccion):\n",
    "    direccion = str(direccion).strip()\n",
    "    # Caso intersección → lo que está después del \" y \"\n",
    "    if \" y \" in direccion.lower():\n",
    "        return direccion.split(\" y \")[1].split(\",\")[0].strip().title()\n",
    "    # Caso dirección con número\n",
    "    partes = direccion.split(\",\")[0].split()\n",
    "    if partes:\n",
    "        ultima = partes[-1]\n",
    "        return ultima if ultima.isdigit() else \"\"\n",
    "    return \"\"\n",
    "\n",
    "# 4. Aplicar ambas funciones\n",
    "df[\"Direccion_Calle\"] = df[\"Direccion\"].apply(extraer_calle)\n",
    "df[\"Direccion_Numero_Interseccion\"] = df[\"Direccion\"].apply(extraer_interseccion)\n",
    "\n",
    "# 5. Crear DataFrame final con las columnas formateadas\n",
    "df_final = pd.DataFrame({\n",
    "    \"ID_Punto\": \"\",\n",
    "    \"Tipo_Intervencion_ID\": \"18\",\n",
    "    \"Subtipo_Intervencion_ID\": \"todos\",\n",
    "    \"Descripcion_Detallada\": df[\"Procedimiento Destacado\"],\n",
    "    \"Latitud\": df[\"Latitud\"],\n",
    "    \"Longitud\": df[\"Longitud\"],\n",
    "    \"Direccion_Calle\": df[\"Direccion_Calle\"],\n",
    "    \"Direccion_Numero_Interseccion\": df[\"Direccion_Numero_Interseccion\"],\n",
    "    \"Barrio_ID\": df[\"Barrio\"],\n",
    "    \"Distrito_ID\": \"19\",\n",
    "    \"Fecha_Realizacion\": df[\"Fecha\"],\n",
    "    \"Cantidad_Afectada\": df[\"Cantidad afectada\"],\n",
    "    \"Unidad_Medida\": \"locales gastronómicos\",\n",
    "    \"Estado_Actual\": \"completados\",\n",
    "    \"Responsable_Direccion_ID\": \"18\",\n",
    "    \"Notas_Adicionales\": \"\"\n",
    "})\n",
    "\n",
    "# 6. Exportar a Excel\n",
    "df_final.to_excel(\"intervenciones_formato_final_districto19.xlsx\", index=False)\n",
    "print(\"✅ Archivo final exportado: 'intervenciones_formato_final_districto19.xlsx'\")\n",
    "\n",
    "\n"
   ]
  },
  {
   "cell_type": "code",
   "execution_count": 20,
   "id": "1cb4744f",
   "metadata": {},
   "outputs": [
    {
     "name": "stdout",
     "output_type": "stream",
     "text": [
      "Requirement already satisfied: folium in c:\\users\\pablo\\appdata\\local\\programs\\python\\python313\\lib\\site-packages (0.20.0)\n",
      "Requirement already satisfied: pandas in c:\\users\\pablo\\appdata\\local\\programs\\python\\python313\\lib\\site-packages (2.2.3)\n",
      "Requirement already satisfied: branca>=0.6.0 in c:\\users\\pablo\\appdata\\local\\programs\\python\\python313\\lib\\site-packages (from folium) (0.8.1)\n",
      "Requirement already satisfied: jinja2>=2.9 in c:\\users\\pablo\\appdata\\local\\programs\\python\\python313\\lib\\site-packages (from folium) (3.1.6)\n",
      "Requirement already satisfied: numpy in c:\\users\\pablo\\appdata\\local\\programs\\python\\python313\\lib\\site-packages (from folium) (2.2.2)\n",
      "Requirement already satisfied: requests in c:\\users\\pablo\\appdata\\local\\programs\\python\\python313\\lib\\site-packages (from folium) (2.32.3)\n",
      "Requirement already satisfied: xyzservices in c:\\users\\pablo\\appdata\\local\\programs\\python\\python313\\lib\\site-packages (from folium) (2025.4.0)\n",
      "Requirement already satisfied: python-dateutil>=2.8.2 in c:\\users\\pablo\\appdata\\roaming\\python\\python313\\site-packages (from pandas) (2.9.0.post0)\n",
      "Requirement already satisfied: pytz>=2020.1 in c:\\users\\pablo\\appdata\\local\\programs\\python\\python313\\lib\\site-packages (from pandas) (2025.1)\n",
      "Requirement already satisfied: tzdata>=2022.7 in c:\\users\\pablo\\appdata\\local\\programs\\python\\python313\\lib\\site-packages (from pandas) (2025.1)\n",
      "Requirement already satisfied: MarkupSafe>=2.0 in c:\\users\\pablo\\appdata\\local\\programs\\python\\python313\\lib\\site-packages (from jinja2>=2.9->folium) (3.0.2)\n",
      "Requirement already satisfied: six>=1.5 in c:\\users\\pablo\\appdata\\roaming\\python\\python313\\site-packages (from python-dateutil>=2.8.2->pandas) (1.17.0)\n",
      "Requirement already satisfied: charset-normalizer<4,>=2 in c:\\users\\pablo\\appdata\\local\\programs\\python\\python313\\lib\\site-packages (from requests->folium) (3.4.2)\n",
      "Requirement already satisfied: idna<4,>=2.5 in c:\\users\\pablo\\appdata\\local\\programs\\python\\python313\\lib\\site-packages (from requests->folium) (3.10)\n",
      "Requirement already satisfied: urllib3<3,>=1.21.1 in c:\\users\\pablo\\appdata\\local\\programs\\python\\python313\\lib\\site-packages (from requests->folium) (2.4.0)\n",
      "Requirement already satisfied: certifi>=2017.4.17 in c:\\users\\pablo\\appdata\\local\\programs\\python\\python313\\lib\\site-packages (from requests->folium) (2025.1.31)\n",
      "Note: you may need to restart the kernel to use updated packages.\n"
     ]
    },
    {
     "name": "stderr",
     "output_type": "stream",
     "text": [
      "\n",
      "[notice] A new release of pip is available: 25.1.1 -> 25.2\n",
      "[notice] To update, run: python.exe -m pip install --upgrade pip\n"
     ]
    }
   ],
   "source": [
    "pip install folium pandas\n"
   ]
  },
  {
   "cell_type": "code",
   "execution_count": null,
   "id": "cfb6e87a",
   "metadata": {},
   "outputs": [
    {
     "name": "stdout",
     "output_type": "stream",
     "text": [
      "✅ Mapa exportado como 'mapa_inspecciones_districto14.html'\n"
     ]
    }
   ],
   "source": [
    "import pandas as pd\n",
    "import folium\n",
    "\n",
    "# 1. Cargar el archivo con datos ya procesados\n",
    "df = pd.read_excel(\"intervenciones_formato_final_districto4.xlsx\")\n",
    "\n",
    "# 2. Crear el mapa centrado en San Miguel de Tucumán\n",
    "mapa = folium.Map(location=[-26.833, -65.216], zoom_start=13)\n",
    "\n",
    "# 3. Agregar cada punto como marcador circular\n",
    "for _, row in df.iterrows():\n",
    "    direccion = row.get(\"Direccion_Calle\", \"Sin dirección\")\n",
    "    barrio = row.get(\"Barrio_ID\", \"Sin barrio\")\n",
    "\n",
    "    folium.CircleMarker(\n",
    "        location=[row[\"Latitud\"], row[\"Longitud\"]],\n",
    "        radius=5,\n",
    "        color=\"blue\",\n",
    "        fill=True,\n",
    "        fill_color=\"blue\",\n",
    "        fill_opacity=0.6,\n",
    "        popup=folium.Popup(f\"{direccion}<br><b>Barrio:</b> {barrio}\", max_width=300)\n",
    "    ).add_to(mapa)\n",
    "\n",
    "# 4. Guardar el mapa en un archivo HTML\n",
    "mapa.save(\"mapa_inspecciones_districto4.html\")\n",
    "print(\"✅ Mapa exportado como 'mapa_inspecciones_districto4.html'\")\n"
   ]
  },
  {
   "cell_type": "code",
   "execution_count": 22,
   "id": "1c37f4bd",
   "metadata": {},
   "outputs": [
    {
     "name": "stdout",
     "output_type": "stream",
     "text": [
      "Note: you may need to restart the kernel to use updated packages.\n",
      "Requirement already satisfied: shapely in c:\\users\\pablo\\appdata\\local\\programs\\python\\python313\\lib\\site-packages (2.1.1)\n",
      "Requirement already satisfied: folium in c:\\users\\pablo\\appdata\\local\\programs\\python\\python313\\lib\\site-packages (0.20.0)\n",
      "Requirement already satisfied: pandas in c:\\users\\pablo\\appdata\\local\\programs\\python\\python313\\lib\\site-packages (2.2.3)\n",
      "Requirement already satisfied: numpy>=1.21 in c:\\users\\pablo\\appdata\\local\\programs\\python\\python313\\lib\\site-packages (from shapely) (2.2.2)\n",
      "Requirement already satisfied: branca>=0.6.0 in c:\\users\\pablo\\appdata\\local\\programs\\python\\python313\\lib\\site-packages (from folium) (0.8.1)\n",
      "Requirement already satisfied: jinja2>=2.9 in c:\\users\\pablo\\appdata\\local\\programs\\python\\python313\\lib\\site-packages (from folium) (3.1.6)\n",
      "Requirement already satisfied: requests in c:\\users\\pablo\\appdata\\local\\programs\\python\\python313\\lib\\site-packages (from folium) (2.32.3)\n",
      "Requirement already satisfied: xyzservices in c:\\users\\pablo\\appdata\\local\\programs\\python\\python313\\lib\\site-packages (from folium) (2025.4.0)\n",
      "Requirement already satisfied: python-dateutil>=2.8.2 in c:\\users\\pablo\\appdata\\roaming\\python\\python313\\site-packages (from pandas) (2.9.0.post0)\n",
      "Requirement already satisfied: pytz>=2020.1 in c:\\users\\pablo\\appdata\\local\\programs\\python\\python313\\lib\\site-packages (from pandas) (2025.1)\n",
      "Requirement already satisfied: tzdata>=2022.7 in c:\\users\\pablo\\appdata\\local\\programs\\python\\python313\\lib\\site-packages (from pandas) (2025.1)\n",
      "Requirement already satisfied: MarkupSafe>=2.0 in c:\\users\\pablo\\appdata\\local\\programs\\python\\python313\\lib\\site-packages (from jinja2>=2.9->folium) (3.0.2)\n",
      "Requirement already satisfied: six>=1.5 in c:\\users\\pablo\\appdata\\roaming\\python\\python313\\site-packages (from python-dateutil>=2.8.2->pandas) (1.17.0)\n",
      "Requirement already satisfied: charset-normalizer<4,>=2 in c:\\users\\pablo\\appdata\\local\\programs\\python\\python313\\lib\\site-packages (from requests->folium) (3.4.2)\n",
      "Requirement already satisfied: idna<4,>=2.5 in c:\\users\\pablo\\appdata\\local\\programs\\python\\python313\\lib\\site-packages (from requests->folium) (3.10)\n",
      "Requirement already satisfied: urllib3<3,>=1.21.1 in c:\\users\\pablo\\appdata\\local\\programs\\python\\python313\\lib\\site-packages (from requests->folium) (2.4.0)\n",
      "Requirement already satisfied: certifi>=2017.4.17 in c:\\users\\pablo\\appdata\\local\\programs\\python\\python313\\lib\\site-packages (from requests->folium) (2025.1.31)\n"
     ]
    },
    {
     "name": "stderr",
     "output_type": "stream",
     "text": [
      "\n",
      "[notice] A new release of pip is available: 25.1.1 -> 25.2\n",
      "[notice] To update, run: python.exe -m pip install --upgrade pip\n"
     ]
    }
   ],
   "source": [
    "pip install shapely folium pandas\n"
   ]
  },
  {
   "cell_type": "code",
   "execution_count": null,
   "id": "712ad9ae",
   "metadata": {},
   "outputs": [
    {
     "name": "stdout",
     "output_type": "stream",
     "text": [
      "✅ Mapa generado como 'mapa_con_poligonos14.html'\n"
     ]
    }
   ],
   "source": [
    "import pandas as pd\n",
    "import folium\n",
    "from shapely.wkt import loads as load_wkt\n",
    "from shapely.geometry import mapping\n",
    "\n",
    "# 1. Leer puntos desde archivo\n",
    "df = pd.read_excel(\"intervenciones_formato_final_districto4.xlsx\")\n",
    "\n",
    "# 2. Crear mapa centrado en San Miguel de Tucumán\n",
    "mapa = folium.Map(location=[-26.833, -65.216], zoom_start=13)\n",
    "\n",
    "# 3. Agregar puntos\n",
    "for _, row in df.iterrows():\n",
    "    direccion = row.get(\"Direccion_Calle\", \"Sin dirección\")\n",
    "    barrio = row.get(\"Barrio_ID\", \"Sin barrio\")\n",
    "\n",
    "    folium.CircleMarker(\n",
    "        location=[row[\"Latitud\"], row[\"Longitud\"]],\n",
    "        radius=5,\n",
    "        color=\"blue\",\n",
    "        fill=True,\n",
    "        fill_color=\"blue\",\n",
    "        fill_opacity=0.6,\n",
    "        popup=folium.Popup(f\"{direccion}<br><b>Barrio:</b> {barrio}\", max_width=300)\n",
    "    ).add_to(mapa)\n",
    "\n",
    "# 4. Agregar polígonos de barrios\n",
    "for nombre, poligono in poligonos.items():\n",
    "    coords = [[lat, lon] for lon, lat in poligono.exterior.coords]\n",
    "    folium.Polygon(\n",
    "        locations=coords,\n",
    "        color=\"red\",\n",
    "        fill=True,\n",
    "        fill_color=\"red\",\n",
    "        fill_opacity=0.1,\n",
    "        weight=2,\n",
    "        popup=f\"{nombre}\"\n",
    "    ).add_to(mapa)\n",
    "\n",
    "# 5. Guardar como archivo HTML\n",
    "mapa.save(\"mapa_con_poligonos.html\")\n",
    "print(\"✅ Mapa generado como 'mapa_con_poligonos4.html'\")\n"
   ]
  },
  {
   "cell_type": "code",
   "execution_count": null,
   "id": "310de540",
   "metadata": {},
   "outputs": [],
   "source": [
    "import pandas as pd\n",
    "import folium\n",
    "from shapely.wkt import loads as load_wkt\n",
    "from shapely.geometry import MultiPolygon\n",
    "from folium.features import DivIcon\n",
    "\n",
    "# ... tu código de puntos arriba ...\n",
    "# 1. Leer puntos desde archivo\n",
    "df = pd.read_excel(\"intervenciones_formato_final_districto14.xlsx\")\n",
    "\n",
    "# 2. Crear mapa centrado en San Miguel de Tucumán\n",
    "mapa = folium.Map(location=[-26.833, -65.216], zoom_start=13)\n",
    "# Diccionario usando load_wkt (ya importado)\n",
    "poligonos = {\n",
    "    \"VICTORIA\": load_wkt(\"POLYGON ((-65.226925 -26.845078, -65.227346 -26.845, -65.235775 -26.843421, -65.236759 -26.843203, -65.237089 -26.843589, -65.237507 -26.844384, -65.23775 -26.844844, -65.237813 -26.845073, -65.236255 -26.845395, -65.235709 -26.845515, -65.235828 -26.846164, -65.237994 -26.845724, -65.238298 -26.846816, -65.238552 -26.848017, -65.236887 -26.848364, -65.236662 -26.847523, -65.233575 -26.848159, -65.233903 -26.849511, -65.235311 -26.849183, -65.235472 -26.849664, -65.237202 -26.849301, -65.237362 -26.849951, -65.237762 -26.851571, -65.23606 -26.85185, -65.23575 -26.850577, -65.234295 -26.850851, -65.232543 -26.851175, -65.228823 -26.85187, -65.224369 -26.852702, -65.223722 -26.850004, -65.222748 -26.845945, -65.226925 -26.845078))\"),\n",
    "    \"EL CRUCE\": load_wkt(\"POLYGON ((-65.219902 -26.846491, -65.218612 -26.841067, -65.221478 -26.840454, -65.222748 -26.845945, -65.219902 -26.846491))\"),\n",
    "    \"AVENIDA\": load_wkt(\"POLYGON ((-65.223722 -26.850004, -65.221925 -26.850366, -65.221634 -26.848989, -65.221076 -26.84911, -65.220502 -26.846376, -65.222748 -26.845945, -65.223722 -26.850004))\"),\n",
    "    \"COPIAT II\": load_wkt(\"POLYGON ((-65.232904 -26.852454, -65.232543 -26.851175, -65.23575 -26.850577, -65.23606 -26.85185, -65.232904 -26.852454))\"),\n",
    "    \"SANTA RITA\": load_wkt(\"POLYGON ((-65.238048 -26.852816, -65.232163 -26.853948, -65.231877 -26.85265, -65.23606 -26.85185, -65.237762 -26.851571, -65.238048 -26.852816))\"),\n",
    "    \"LOS VAZQUEZ\": load_wkt(\"POLYGON ((-65.224163 -26.855491, -65.223682 -26.855582, -65.223521 -26.854914, -65.223356 -26.854232, -65.223237 -26.853738, -65.221815 -26.853999, -65.220941 -26.850543, -65.221925 -26.850366, -65.223722 -26.850004, -65.224369 -26.852702, -65.22652 -26.8523, -65.226777 -26.853519, -65.227076 -26.85494, -65.226351 -26.85508, -65.224163 -26.855491))\"),\n",
    "    \"SUTIAGA\": load_wkt(\"POLYGON ((-65.240412 -26.856651, -65.235798 -26.857524, -65.23552 -26.85606, -65.240087 -26.85523, -65.240412 -26.856651))\"),\n",
    "    \"1° DE MAYO (VICENTE HARO)\": load_wkt(\"POLYGON ((-65.239048 -26.849599, -65.240041 -26.851712, -65.240242 -26.852138, -65.240117 -26.852378, -65.239583 -26.852524, -65.238048 -26.852816, -65.237762 -26.851571, -65.237682 -26.851248, -65.237547 -26.8507, -65.237362 -26.849951, -65.239048 -26.849599))\"),\n",
    "    \"AMPLIACION VICTORIA\": load_wkt(\"POLYGON ((-65.236662 -26.847523, -65.236887 -26.848364, -65.238552 -26.848017, -65.238754 -26.848973, -65.239048 -26.849599, -65.237362 -26.849951, -65.237202 -26.849301, -65.235472 -26.849664, -65.235311 -26.849183, -65.233922 -26.849508, -65.233786 -26.848919, -65.233616 -26.848154, -65.236662 -26.847523))\"),\n",
    "    \"SANTA ELENA\": load_wkt(\"POLYGON ((-65.240412 -26.856651, -65.240564 -26.857399, -65.238173 -26.857818, -65.237778 -26.85788, -65.237406 -26.857954, -65.236017 -26.858211, -65.23523 -26.858355, -65.234702 -26.858427, -65.234619 -26.857762, -65.234483 -26.857026, -65.234341 -26.856274, -65.23552 -26.85606, -65.235798 -26.857524, -65.23727 -26.857268, -65.238978 -26.856922, -65.240412 -26.856651))\"),\n",
    "    \"AVAREZ CONDARCO (CHAÑARITOS)\": load_wkt(\"POLYGON ((-65.227051 -26.858302, -65.227864 -26.858871, -65.228592 -26.859403, -65.228817 -26.859562, -65.228855 -26.859588, -65.229431 -26.859994, -65.230543 -26.860734, -65.23143 -26.861495, -65.231555 -26.861673, -65.231682 -26.861857, -65.231541 -26.861882, -65.228643 -26.862342, -65.228279 -26.861736, -65.228048 -26.861445, -65.227732 -26.861079, -65.227214 -26.860543, -65.226589 -26.860012, -65.225973 -26.85949, -65.225096 -26.858747, -65.227051 -26.858302))\"),\n",
    "    \"SAN ANIBAL\": load_wkt(\"POLYGON ((-65.233065 -26.857819, -65.234542 -26.85752, -65.234596 -26.857824, -65.234674 -26.858267, -65.234702 -26.858427, -65.234859 -26.859113, -65.235044 -26.859817, -65.235162 -26.860317, -65.235327 -26.861021, -65.235464 -26.861689, -65.235899 -26.863664, -65.23428 -26.865022, -65.233945 -26.865303, -65.233086 -26.863978, -65.231657 -26.861818, -65.23143 -26.861495, -65.230543 -26.860734, -65.229955 -26.86036, -65.228817 -26.859562, -65.227864 -26.858871, -65.233065 -26.857819))\"),\n",
    "    \"EL GRAFICO I\": load_wkt(\"POLYGON ((-65.234341 -26.856274, -65.234462 -26.857021, -65.234542 -26.85752, -65.233065 -26.857819, -65.229235 -26.858594, -65.227864 -26.858871, -65.227051 -26.858302, -65.226293 -26.857771, -65.226972 -26.857648, -65.228285 -26.857412, -65.229654 -26.857146, -65.2306 -26.85697, -65.232767 -26.856567, -65.234341 -26.856274))\"),\n",
    "    \"PRESIDENTE PERON (VERA)\": load_wkt(\"POLYGON ((-65.221909 -26.854367, -65.221815 -26.853999, -65.223237 -26.853738, -65.223356 -26.854232, -65.223521 -26.854914, -65.223663 -26.85548, -65.223682 -26.855582, -65.223111 -26.855635, -65.222392 -26.855702, -65.222048 -26.854751, -65.22194 -26.854454, -65.221909 -26.854367))\"),\n",
    "    \"JUAN B. TERAN\": load_wkt(\"POLYGON ((-65.231318 -26.851427, -65.232543 -26.851175, -65.232904 -26.852454, -65.231877 -26.85265, -65.232163 -26.853948, -65.229363 -26.854494, -65.227076 -26.85494, -65.226994 -26.854548, -65.226777 -26.853519, -65.226633 -26.852834, -65.22652 -26.8523, -65.227193 -26.852174, -65.228466 -26.851937, -65.229811 -26.851685, -65.231318 -26.851427))\"),\n",
    "    \"11 DE MARZO\": load_wkt(\"POLYGON ((-65.232163 -26.853948, -65.234904 -26.85342, -65.236345 -26.853143, -65.238048 -26.852816, -65.239583 -26.852524, -65.239729 -26.853308, -65.23988 -26.853958, -65.23998 -26.854654, -65.240087 -26.85523, -65.236981 -26.855794, -65.23552 -26.85606, -65.234341 -26.856274, -65.232767 -26.856567, -65.231987 -26.856712, -65.2306 -26.85697, -65.229654 -26.857146, -65.228285 -26.857412, -65.226972 -26.857648, -65.226293 -26.857771, -65.227051 -26.858302, -65.225486 -26.858658, -65.225096 -26.858747, -65.224416 -26.858177, -65.223736 -26.857607, -65.223112 -26.856999, -65.222816 -26.856466, -65.222708 -26.856271, -65.222392 -26.855702, -65.223111 -26.855635, -65.223682 -26.855582, -65.225007 -26.855332, -65.226351 -26.85508, -65.227756 -26.854808, -65.229136 -26.854538, -65.230404 -26.854291, -65.232163 -26.853948))\"),\n",
    "    \"SAN FERNANDO\": load_wkt(\"POLYGON ((-65.241236 -26.856495, -65.24173 -26.858547, -65.24182 -26.858921, -65.2417 -26.859015, -65.241326 -26.859294, -65.240757 -26.859754, -65.239906 -26.860457, -65.238999 -26.861141, -65.235899 -26.863664, -65.234859 -26.859113, -65.234702 -26.858427, -65.240564 -26.857399, -65.239583 -26.852524, -65.240117 -26.852378, -65.240242 -26.852138, -65.241236 -26.856495))\"),\n",
    "    \"NORGAS\": load_wkt(\"POLYGON ((-65.2206 -26.849166, -65.22081 -26.849141, -65.221076 -26.84911, -65.221634 -26.848989, -65.221925 -26.850366, -65.220941 -26.850543, -65.220726 -26.849676, -65.2206 -26.849166))\"),\n",
    "    \"JORGE LUIS BORGES\": load_wkt(\"POLYGON ((-65.237813 -26.845073, -65.237994 -26.845724, -65.236495 -26.846029, -65.235828 -26.846164, -65.235794 -26.845975, -65.235755 -26.845764, -65.235709 -26.845515, -65.236299 -26.845386, -65.23657 -26.84533, -65.236761 -26.84529, -65.236924 -26.845257, -65.237113 -26.845218, -65.237288 -26.845181, -65.237813 -26.845073))\"),\n",
    "    \"BERNABE ARAOZ\": load_wkt(\"POLYGON ((-65.220502 -26.846376, -65.220992 -26.848712, -65.221076 -26.84911, -65.22081 -26.849141, -65.2206 -26.849166, -65.220302 -26.847804, -65.219902 -26.846491, -65.220095 -26.846454, -65.220502 -26.846376))\"),\n",
    "    \"23 DE FEBRERO\": load_wkt(\"POLYGON ((-65.233067 -26.863983, -65.231248 -26.86438, -65.229963 -26.864655, -65.228643 -26.862342, -65.231682 -26.861861, -65.233067 -26.863983))\"),\n",
    "    \"CIUDADELA SUR\": load_wkt(\"POLYGON ((-65.221478 -26.840454, -65.228515 -26.839078, -65.229154 -26.8413, -65.225968 -26.842307, -65.226925 -26.845078, -65.222748 -26.845945, -65.221478 -26.840454))\")\n",
    "}\n",
    "# 3. Agregar puntos\n",
    "for _, row in df.iterrows():\n",
    "    direccion = row.get(\"Direccion_Calle\", \"Sin dirección\")\n",
    "    barrio = row.get(\"Barrio_ID\", \"Sin barrio\")\n",
    "\n",
    "    folium.CircleMarker(\n",
    "        location=[row[\"Latitud\"], row[\"Longitud\"]],\n",
    "        radius=5,\n",
    "        color=\"blue\",\n",
    "        fill=True,\n",
    "        fill_color=\"blue\",\n",
    "        fill_opacity=0.6,\n",
    "        popup=folium.Popup(f\"{direccion}<br><b>Barrio:</b> {barrio}\", max_width=300)\n",
    "    ).add_to(mapa)\n",
    "\n",
    "# Dibujar polígonos + etiquetas (soporta MultiPolygon)\n",
    "for nombre, poligono in poligonos.items():\n",
    "    partes = list(poligono.geoms) if isinstance(poligono, MultiPolygon) else [poligono]\n",
    "\n",
    "    for g in partes:\n",
    "        coords = [[lat, lon] for lon, lat in g.exterior.coords]  # folium requiere [lat, lon]\n",
    "        folium.Polygon(\n",
    "            locations=coords,\n",
    "            color=\"red\",\n",
    "            fill=True,\n",
    "            fill_color=\"red\",\n",
    "            fill_opacity=0.1,\n",
    "            weight=2,\n",
    "            popup=nombre\n",
    "        ).add_to(mapa)\n",
    "\n",
    "    # etiqueta (representative_point evita quedar fuera en formas raras)\n",
    "    p = poligono.representative_point()\n",
    "    folium.Marker(\n",
    "        location=[p.y, p.x],\n",
    "        icon=DivIcon(\n",
    "            icon_size=(100, 36),\n",
    "            icon_anchor=(0, 0),\n",
    "            html=f\"\"\"\n",
    "            <div style=\"\n",
    "                background: rgba(255,0,0);\n",
    "                padding: 2px 6px;\n",
    "                border-radius: 6px;\n",
    "                border: 1px solid rgba(0,0,0,0.2);\n",
    "                font-size: 9px;\n",
    "                color:  rgba(0, 0, 0);\n",
    "                font-weight: 600; \n",
    "                font-style= bold;\n",
    "                white-space: nowrap;\">\n",
    "                {nombre}\n",
    "            </div>\n",
    "            \"\"\"\n",
    "        )\n",
    "    ).add_to(mapa)\n",
    "\n",
    "mapa.save(\"mapa_con_poligonos_final.html\")\n"
   ]
  },
  {
   "cell_type": "code",
   "execution_count": 13,
   "id": "13ae3b48",
   "metadata": {},
   "outputs": [
    {
     "name": "stdout",
     "output_type": "stream",
     "text": [
      "Avenida América, Feput, San Miguel de Tucumán, Departamento Capital, Tucumán, T4000, Argentina\n",
      "-26.7872288 -65.243043\n"
     ]
    }
   ],
   "source": [
    "from geopy.geocoders import Nominatim\n",
    "from geopy.extra.rate_limiter import RateLimiter\n",
    "\n",
    "# Identifícate claramente (proyecto + email o URL de contacto)\n",
    "geolocator = Nominatim(\n",
    "    user_agent=\"bromatologia-smt/1.0 (contacto: tu_email@dominio.gob.ar)\",\n",
    "    timeout=10\n",
    ")\n",
    "\n",
    "# Respetar TOS: 1 seg entre consultas\n",
    "geocode = RateLimiter(geolocator.geocode, min_delay_seconds=1)\n",
    "\n",
    "direccion = \"Av. América 1734, San Miguel de Tucumán, Tucumán\"\n",
    "ubicacion = geocode(direccion)\n",
    "\n",
    "if ubicacion:\n",
    "    print(ubicacion.address)\n",
    "    print(ubicacion.latitude, ubicacion.longitude)\n",
    "else:\n",
    "    print(\"No se encontró la dirección\")\n",
    "\n"
   ]
  }
 ],
 "metadata": {
  "kernelspec": {
   "display_name": "Python 3",
   "language": "python",
   "name": "python3"
  },
  "language_info": {
   "codemirror_mode": {
    "name": "ipython",
    "version": 3
   },
   "file_extension": ".py",
   "mimetype": "text/x-python",
   "name": "python",
   "nbconvert_exporter": "python",
   "pygments_lexer": "ipython3",
   "version": "3.13.5"
  }
 },
 "nbformat": 4,
 "nbformat_minor": 5
}
