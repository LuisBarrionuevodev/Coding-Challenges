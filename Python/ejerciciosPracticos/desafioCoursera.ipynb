{
 "cells": [
  {
   "cell_type": "markdown",
   "metadata": {},
   "source": [
    "ejercicio1\n",
    "crear un archivo y leerlo"
   ]
  },
  {
   "cell_type": "code",
   "execution_count": 32,
   "metadata": {},
   "outputs": [
    {
     "name": "stdout",
     "output_type": "stream",
     "text": [
      "El contenido del archivo es:\n",
      " Nombre\tEstado\n",
      "Luis\tyes\n",
      "María\tno\n",
      "Carlos\tyes\n",
      "Ana\tno\n",
      "Ana\tno\n",
      "Ana\tno\n",
      "\n"
     ]
    }
   ],
   "source": [
    "with open(\"prueba.text\", \"w\") as file1:\n",
    "    file1.write(\"Nombre\\tEstado\\n\")\n",
    "    file1.write(\"Luis\\tyes\\n\")\n",
    "    file1.write(\"María\\tno\\n\")\n",
    "    file1.write(\"Carlos\\tyes\\n\")\n",
    "    file1.write(\"Ana\\tno\\n\")\n",
    "    file1.write(\"Ana\\tno\\n\")\n",
    "    file1.write(\"Ana\\tno\\n\")\n",
    "\n",
    "with open(\"prueba.text\",\"r\") as file1:\n",
    "    contenido = file1.read()\n",
    "    print(\"El contenido del archivo es:\\n\",contenido)  "
   ]
  },
  {
   "cell_type": "markdown",
   "metadata": {},
   "source": [
    "ejercicio 2"
   ]
  },
  {
   "cell_type": "code",
   "execution_count": 33,
   "metadata": {},
   "outputs": [
    {
     "name": "stdout",
     "output_type": "stream",
     "text": [
      "Los Usuarios inactivos son:\n",
      " Nombre\tEstado\n",
      "María\tno\n",
      "Ana\tno\n",
      "Ana\tno\n",
      "Ana\tno\n",
      "\n",
      "Los Usuarios activos son:\n",
      " Nombre\tEstado\n",
      "Luis\tyes\n",
      "Carlos\tyes\n",
      "\n"
     ]
    }
   ],
   "source": [
    "with open(\"prueba.text\",\"r\") as file1:\n",
    "    lines=file1.readlines()\n",
    "    \n",
    "\n",
    "\n",
    "with open(\"inactivos.text\",\"w\") as inactivos, open(\"activos.text\",\"w\") as activos:\n",
    "    encabezado = lines[0]\n",
    "    inactivos.write(encabezado)\n",
    "    activos.write(encabezado)\n",
    "    for line in lines[1:]:\n",
    "        if \"no\" in line:\n",
    "            inactivos.write(line)\n",
    "        else:\n",
    "            activos.write(line)    \n",
    "\n",
    "with open(\"inactivos.text\",\"r\") as inactivos:\n",
    "    lecturaInactivos= inactivos.read()\n",
    "    print(\"Los Usuarios inactivos son:\\n\",lecturaInactivos) \n",
    "\n",
    "with open(\"activos.text\",\"r\") as activos:\n",
    "    lecturaActivos= activos.read()\n",
    "    print(\"Los Usuarios activos son:\\n\",lecturaActivos) "
   ]
  },
  {
   "cell_type": "markdown",
   "metadata": {},
   "source": [
    " con Open creamos y escribimos un archivo de las edades"
   ]
  },
  {
   "cell_type": "code",
   "execution_count": 39,
   "metadata": {},
   "outputs": [],
   "source": [
    "##Primero hacemos una variable de tipo lista(matriz) llamada file_name con el nombre,numero y nota \n",
    "fileName=\"registro_alumnos.text\"\n",
    "\n",
    "alumnos=[\n",
    "    [\"Lionel Messi\", 38, \"Matemáticas: 5\"],\n",
    "    [\"Cristiano Ronaldo\", 40, \"Física: 8\"],\n",
    "    [\"Neymar Jr\", 18, \"Química: 5\"],\n",
    "    [\"Sergio Ramos\", 17, \"Historia: 7\"],\n",
    "    [\"Luka Modric\", 15, \"Biología: 3\"],\n",
    "    [\"Zlatan Ibrahimovic\", 23, \"Matemáticas: 10\"],\n",
    "    [\"Andrés Iniesta\", 10, \"Física: 7\"],\n",
    "    [\"Ronaldinho Gaúcho\", 14, \"Química: 5\"],\n",
    "    [\"Thierry Henry\", 24, \"Historia: 10\"],\n",
    "    [\"Paolo Maldini\", 22, \"Biología: 1\"],\n",
    "    [\"Gianluigi Buffon\", 10, \"Matemáticas: 5\"],\n",
    "    [\"Francesco Totti\", 19, \"Física: 4\"],\n",
    "    [\"Xavi Hernández\", 16, \"Química: 7\"],\n",
    "    [\"Kylian Mbappé\", 25, \"Historia: 2\"],\n",
    "    [\"Erling Haaland\", 23, \"Biología: 10\"],\n",
    "]\n",
    "\n",
    "with open (fileName, \"w\") as file:\n",
    "    file.write(\"Nombre        Numero        Materia Notas\\n\")\n",
    "    \n",
    "    for alumno in alumnos:\n",
    "        file.write(f\"{alumno[0]:<20} {alumno[1]:<10} {alumno[2]}\\n\")\n",
    "\n"
   ]
  },
  {
   "cell_type": "markdown",
   "metadata": {},
   "source": [
    "primer ejercicio, vamos a separar por edades"
   ]
  },
  {
   "cell_type": "code",
   "execution_count": 3,
   "metadata": {},
   "outputs": [
    {
     "name": "stdout",
     "output_type": "stream",
     "text": [
      "Lionel Messi s\n",
      "Cristiano Ronaldo s\n",
      "Neymar Jr s\n",
      "Sergio Ramos s\n",
      "Luka Modric s\n",
      "Zlatan Ibrahimovic s\n",
      "Andrés Iniesta s\n",
      "Ronaldinho Gaúcho s\n",
      "Thierry Henry s\n",
      "Paolo Maldini s\n",
      "Gianluigi Buffon s\n",
      "Francesco Totti s\n",
      "Xavi Hernández s\n",
      "Kylian Mbappé s\n",
      "Erling Haaland s\n"
     ]
    }
   ],
   "source": [
    "with open(\"registro_alumnos.text\",\"r\") as registro:\n",
    "    lineas = registro.readlines()\n",
    "    \n",
    "\n",
    "\n",
    "with open(\"alumnos_mayores_18.txt\", \"w\") as output:\n",
    " output.write(\"Nombre        Numero        Materia Notas\\n\")  # Escribir encabezado\n",
    " for linea in lineas[1:]:\n",
    "     \n",
    "     nombre= linea[:20].strip()\n",
    "     edad= linea[20:32].strip()\n",
    "     materiaNotas= linea[32:].strip()\n",
    "    \n",
    "     try:\n",
    "      edad=int(edad)\n",
    "\n",
    "\n",
    "      if edad> 18:\n",
    "        output.write(f\"{nombre:<20} {edad:<12} {materiaNotas}\\n\")\n",
    "     except ValueError:\n",
    "    \n",
    "       continue\n",
    "     print(nombre,\"sss\")\n",
    "    \n",
    "\n",
    "   \n",
    "# mayoresTxt= \"mayores.txt\"\n",
    "# menoresTxt =\"menores.txt\"\n",
    "# with open(mayoresTxt,\"w\") as mayores, open(menoresTxt,\"w\") as menores:\n",
    "#     encabezado= re "
   ]
  }
 ],
 "metadata": {
  "kernelspec": {
   "display_name": "Python 3",
   "language": "python",
   "name": "python3"
  },
  "language_info": {
   "codemirror_mode": {
    "name": "ipython",
    "version": 3
   },
   "file_extension": ".py",
   "mimetype": "text/x-python",
   "name": "python",
   "nbconvert_exporter": "python",
   "pygments_lexer": "ipython3",
   "version": "3.13.1"
  }
 },
 "nbformat": 4,
 "nbformat_minor": 2
}
