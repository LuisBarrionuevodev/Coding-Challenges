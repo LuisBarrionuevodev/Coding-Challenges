{
 "cells": [
  {
   "cell_type": "code",
   "execution_count": 11,
   "id": "7c15ac23",
   "metadata": {},
   "outputs": [
    {
     "data": {
      "text/plain": [
       "{'player': 'tijera', 'computer': 'tijera'}"
      ]
     },
     "execution_count": 11,
     "metadata": {},
     "output_type": "execute_result"
    }
   ],
   "source": [
    "import random\n",
    "def get_choices():\n",
    "    player_choice= input(\"Elije Piedra, Papel o Tijera\")\n",
    "    options= [\"papel\",\"piedra\",\"tijera\"]\n",
    "    computer_choice=random.choice(options)\n",
    "    choices={\"player\":player_choice,\"computer\":computer_choice}\n",
    "    \n",
    "    return choices\n",
    "get_choices()"
   ]
  },
  {
   "cell_type": "code",
   "execution_count": null,
   "id": "5f73c6a7",
   "metadata": {},
   "outputs": [],
   "source": []
  }
 ],
 "metadata": {
  "kernelspec": {
   "display_name": "Python 3",
   "language": "python",
   "name": "python3"
  },
  "language_info": {
   "codemirror_mode": {
    "name": "ipython",
    "version": 3
   },
   "file_extension": ".py",
   "mimetype": "text/x-python",
   "name": "python",
   "nbconvert_exporter": "python",
   "pygments_lexer": "ipython3",
   "version": "3.13.5"
  }
 },
 "nbformat": 4,
 "nbformat_minor": 5
}
