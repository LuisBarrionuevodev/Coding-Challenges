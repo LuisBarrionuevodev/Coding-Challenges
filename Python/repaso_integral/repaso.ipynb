{
 "cells": [
  {
   "cell_type": "code",
   "execution_count": 11,
   "id": "7c15ac23",
   "metadata": {},
   "outputs": [
    {
     "data": {
      "text/plain": [
       "{'player': 'tijera', 'computer': 'tijera'}"
      ]
     },
     "execution_count": 11,
     "metadata": {},
     "output_type": "execute_result"
    }
   ],
   "source": [
    "import random\n",
    "def get_choices():\n",
    "    player_choice= input(\"Elije Piedra, Papel o Tijera\")\n",
    "    options= [\"papel\",\"piedra\",\"tijera\"]\n",
    "    computer_choice=random.choice(options)\n",
    "    choices={\"player\":player_choice,\"computer\":computer_choice}\n",
    "    \n",
    "    return choices\n",
    "get_choices()"
   ]
  },
  {
   "cell_type": "code",
   "execution_count": 16,
   "id": "5f73c6a7",
   "metadata": {},
   "outputs": [
    {
     "name": "stdout",
     "output_type": "stream",
     "text": [
      "[1, 2, 3]\n"
     ]
    }
   ],
   "source": [
    "rango=int(input(\"Ingresa el tamanio del array\"))\n",
    "array=[]\n",
    "for i in range(rango):\n",
    "    elemento=int(input(f\"Ingrese el elemento numero{i}\"))\n",
    "    array.append(elemento)\n",
    "\n",
    "print(array) "
   ]
  },
  {
   "cell_type": "code",
   "execution_count": 27,
   "id": "7c9ffcf4",
   "metadata": {},
   "outputs": [
    {
     "ename": "ValueError",
     "evalue": "invalid literal for int() with base 10: 'd'",
     "output_type": "error",
     "traceback": [
      "\u001b[1;31m---------------------------------------------------------------------------\u001b[0m",
      "\u001b[1;31mValueError\u001b[0m                                Traceback (most recent call last)",
      "Cell \u001b[1;32mIn[27], line 3\u001b[0m\n\u001b[0;32m      1\u001b[0m entrada\u001b[38;5;241m=\u001b[39m(\u001b[38;5;28minput\u001b[39m(\u001b[38;5;124m\"\u001b[39m\u001b[38;5;124mingresa los numeros\u001b[39m\u001b[38;5;124m\"\u001b[39m))\n\u001b[1;32m----> 3\u001b[0m array\u001b[38;5;241m=\u001b[39m\u001b[38;5;28;43mlist\u001b[39;49m\u001b[43m(\u001b[49m\u001b[38;5;28;43mmap\u001b[39;49m\u001b[43m(\u001b[49m\u001b[38;5;28;43mint\u001b[39;49m\u001b[43m,\u001b[49m\u001b[43mentrada\u001b[49m\u001b[38;5;241;43m.\u001b[39;49m\u001b[43msplit\u001b[49m\u001b[43m(\u001b[49m\u001b[43m)\u001b[49m\u001b[43m)\u001b[49m\u001b[43m)\u001b[49m\n\u001b[0;32m      5\u001b[0m \u001b[38;5;28mprint\u001b[39m(array)\n",
      "\u001b[1;31mValueError\u001b[0m: invalid literal for int() with base 10: 'd'"
     ]
    }
   ],
   "source": [
    "entrada=(input(\"ingresa los numeros\"))\n",
    "\n",
    "array=list(map(int,entrada.split()))\n",
    "\n",
    "print(array)"
   ]
  },
  {
   "cell_type": "code",
   "execution_count": 34,
   "id": "e6347287",
   "metadata": {},
   "outputs": [
    {
     "data": {
      "text/plain": [
       "0"
      ]
     },
     "execution_count": 34,
     "metadata": {},
     "output_type": "execute_result"
    }
   ],
   "source": [
    "entrada=(input(\"Ingresa los numeros del array\"))\n",
    "\n",
    "array=list(map(int,entrada.split()))\n",
    "array.sort()\n",
    "\n",
    "numero= int(input(\"Numero a buscar\"))\n",
    "\n",
    "def buscar_numero(array,numero):\n",
    "    minimo =0\n",
    "    maximo= len(array)-1\n",
    "\n",
    "    while minimo <= maximo:\n",
    "        medio= minimo + maximo //2\n",
    "        puntero=array[medio]\n",
    "        if puntero==numero:\n",
    "            return medio\n",
    "        elif puntero > numero:\n",
    "            maximo=medio - 1\n",
    "        else:\n",
    "            minimo =medio  +1 \n",
    "\n",
    "    return -1            \n",
    "           \n",
    "            \n",
    "buscar_numero(array,numero)    \n",
    "\n",
    "    \n"
   ]
  }
 ],
 "metadata": {
  "kernelspec": {
   "display_name": "Python 3",
   "language": "python",
   "name": "python3"
  },
  "language_info": {
   "codemirror_mode": {
    "name": "ipython",
    "version": 3
   },
   "file_extension": ".py",
   "mimetype": "text/x-python",
   "name": "python",
   "nbconvert_exporter": "python",
   "pygments_lexer": "ipython3",
   "version": "3.13.5"
  }
 },
 "nbformat": 4,
 "nbformat_minor": 5
}
