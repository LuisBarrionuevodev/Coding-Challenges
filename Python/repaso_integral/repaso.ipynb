{
 "cells": [
  {
   "cell_type": "code",
   "execution_count": 11,
   "id": "7c15ac23",
   "metadata": {},
   "outputs": [
    {
     "data": {
      "text/plain": [
       "{'player': 'tijera', 'computer': 'tijera'}"
      ]
     },
     "execution_count": 11,
     "metadata": {},
     "output_type": "execute_result"
    }
   ],
   "source": [
    "import random\n",
    "def get_choices():\n",
    "    player_choice= input(\"Elije Piedra, Papel o Tijera\")\n",
    "    options= [\"papel\",\"piedra\",\"tijera\"]\n",
    "    computer_choice=random.choice(options)\n",
    "    choices={\"player\":player_choice,\"computer\":computer_choice}\n",
    "    \n",
    "    return choices\n",
    "get_choices()"
   ]
  },
  {
   "cell_type": "code",
   "execution_count": 1,
   "id": "5f73c6a7",
   "metadata": {},
   "outputs": [
    {
     "name": "stdout",
     "output_type": "stream",
     "text": [
      "[1, 2, 4, 2]\n"
     ]
    }
   ],
   "source": [
    "rango=int(input(\"Ingresa el tamanio del array\"))\n",
    "array=[]\n",
    "for i in range(rango):\n",
    "    elemento=int(input(f\"Ingrese el elemento numero{i}\"))\n",
    "    array.append(elemento)\n",
    "\n",
    "print(array) "
   ]
  },
  {
   "cell_type": "code",
   "execution_count": 27,
   "id": "7c9ffcf4",
   "metadata": {},
   "outputs": [
    {
     "ename": "ValueError",
     "evalue": "invalid literal for int() with base 10: 'd'",
     "output_type": "error",
     "traceback": [
      "\u001b[1;31m---------------------------------------------------------------------------\u001b[0m",
      "\u001b[1;31mValueError\u001b[0m                                Traceback (most recent call last)",
      "Cell \u001b[1;32mIn[27], line 3\u001b[0m\n\u001b[0;32m      1\u001b[0m entrada\u001b[38;5;241m=\u001b[39m(\u001b[38;5;28minput\u001b[39m(\u001b[38;5;124m\"\u001b[39m\u001b[38;5;124mingresa los numeros\u001b[39m\u001b[38;5;124m\"\u001b[39m))\n\u001b[1;32m----> 3\u001b[0m array\u001b[38;5;241m=\u001b[39m\u001b[38;5;28;43mlist\u001b[39;49m\u001b[43m(\u001b[49m\u001b[38;5;28;43mmap\u001b[39;49m\u001b[43m(\u001b[49m\u001b[38;5;28;43mint\u001b[39;49m\u001b[43m,\u001b[49m\u001b[43mentrada\u001b[49m\u001b[38;5;241;43m.\u001b[39;49m\u001b[43msplit\u001b[49m\u001b[43m(\u001b[49m\u001b[43m)\u001b[49m\u001b[43m)\u001b[49m\u001b[43m)\u001b[49m\n\u001b[0;32m      5\u001b[0m \u001b[38;5;28mprint\u001b[39m(array)\n",
      "\u001b[1;31mValueError\u001b[0m: invalid literal for int() with base 10: 'd'"
     ]
    }
   ],
   "source": [
    "entrada=(input(\"ingresa los numeros\"))\n",
    "\n",
    "array=list(map(int,entrada.split()))\n",
    "\n",
    "print(array)"
   ]
  },
  {
   "cell_type": "code",
   "execution_count": 34,
   "id": "e6347287",
   "metadata": {},
   "outputs": [
    {
     "data": {
      "text/plain": [
       "0"
      ]
     },
     "execution_count": 34,
     "metadata": {},
     "output_type": "execute_result"
    }
   ],
   "source": [
    "entrada=(input(\"Ingresa los numeros del array\"))\n",
    "\n",
    "array=list(map(int,entrada.split()))\n",
    "array.sort()\n",
    "\n",
    "numero= int(input(\"Numero a buscar\"))\n",
    "\n",
    "def buscar_numero(array,numero):\n",
    "    minimo =0\n",
    "    maximo= len(array)-1\n",
    "\n",
    "    while minimo <= maximo:\n",
    "        medio= minimo + maximo //2\n",
    "        puntero=array[medio]\n",
    "        if puntero==numero:\n",
    "            return medio\n",
    "        elif puntero > numero:\n",
    "            maximo=medio - 1\n",
    "        else:\n",
    "            minimo =medio  +1 \n",
    "\n",
    "    return -1            \n",
    "           \n",
    "            \n",
    "buscar_numero(array,numero)    \n",
    "\n",
    "    \n"
   ]
  },
  {
   "cell_type": "code",
   "execution_count": 9,
   "id": "3e8f332f",
   "metadata": {},
   "outputs": [
    {
     "name": "stdout",
     "output_type": "stream",
     "text": [
      "6\n",
      "egb\n"
     ]
    }
   ],
   "source": [
    "def crear(num):\n",
    "    caracteres=\"abcdefghijkmnl\"\n",
    "    num_entero=str(num)\n",
    "    messi= int(num_entero[0])\n",
    "    c1=messi-2\n",
    "    c2=messi\n",
    "    c3=messi-5\n",
    "    contrasenia= f\"{caracteres[c1]}{caracteres[c2]}{caracteres[c3]}\"\n",
    "    return (num,contrasenia)\n",
    "\n",
    "\n",
    "numero,clave=crear(6)\n",
    "\n",
    "print(numero)\n",
    "print(clave)\n"
   ]
  },
  {
   "cell_type": "code",
   "execution_count": 11,
   "id": "ec20eee3",
   "metadata": {},
   "outputs": [
    {
     "data": {
      "text/plain": [
       "20"
      ]
     },
     "execution_count": 11,
     "metadata": {},
     "output_type": "execute_result"
    }
   ],
   "source": [
    "def suma(*numeros):\n",
    "    return sum(numeros)\n",
    "\n",
    "suma(10,10)"
   ]
  },
  {
   "cell_type": "code",
   "execution_count": 12,
   "id": "ade73e45",
   "metadata": {},
   "outputs": [
    {
     "name": "stdout",
     "output_type": "stream",
     "text": [
      "10\n"
     ]
    }
   ],
   "source": [
    "multiplicar_por_dos=lambda x:x*2\n",
    "\n",
    "print(multiplicar_por_dos(5))"
   ]
  },
  {
   "cell_type": "code",
   "execution_count": 21,
   "id": "af14b137",
   "metadata": {},
   "outputs": [
    {
     "name": "stdout",
     "output_type": "stream",
     "text": [
      "[2, 4]\n"
     ]
    }
   ],
   "source": [
    "par=lambda x:x%2==0\n",
    "es_par=filter(par,[1,2,3,4])\n",
    "print(list(es_par))"
   ]
  },
  {
   "cell_type": "code",
   "execution_count": 9,
   "id": "c6a39634",
   "metadata": {},
   "outputs": [
    {
     "name": "stdout",
     "output_type": "stream",
     "text": [
      "El profesor es ronaldinho y su asistente es romero\n"
     ]
    }
   ],
   "source": [
    "def ejercicio1(cantidad):\n",
    "    \n",
    "    alumnos=[]\n",
    "\n",
    "    for i in range (cantidad):\n",
    "        nombre= input(f\"Ingresa el Nombre del alumno{i}\")\n",
    "        edad= int(input(f\"Ingresa la edad del alumno llamado {nombre}\"))\n",
    "        alumno=(nombre,edad)\n",
    "        alumnos.append(alumno)\n",
    "\n",
    "    alumnos.sort(key=lambda x:x[1]) \n",
    "\n",
    "    profesor=alumnos[-1][0]\n",
    "    asistente=alumnos[0][0]   \n",
    "    return profesor, asistente       \n",
    "\n",
    "profesor,asistente=ejercicio1(4) \n",
    "\n",
    "print(f\"El profesor es {profesor} y su asistente es {asistente}\")\n"
   ]
  },
  {
   "cell_type": "code",
   "execution_count": 7,
   "id": "013b38fd",
   "metadata": {},
   "outputs": [
    {
     "name": "stdout",
     "output_type": "stream",
     "text": [
      "1\n",
      "1\n"
     ]
    }
   ],
   "source": [
    "print(profesor)\n",
    "print(asistente)"
   ]
  },
  {
   "cell_type": "code",
   "execution_count": 41,
   "id": "bacd2546",
   "metadata": {},
   "outputs": [
    {
     "data": {
      "text/plain": [
       "3628800"
      ]
     },
     "execution_count": 41,
     "metadata": {},
     "output_type": "execute_result"
    }
   ],
   "source": [
    "def factorial(numero):\n",
    "    for i in range(numero):\n",
    "        if numero==1:\n",
    "            return 1\n",
    "        else:\n",
    "            return numero * factorial(numero-1)\n",
    "       \n",
    "factorial(10)    "
   ]
  },
  {
   "cell_type": "code",
   "execution_count": null,
   "id": "770ad991",
   "metadata": {},
   "outputs": [
    {
     "name": "stdout",
     "output_type": "stream",
     "text": [
      "Generando el cuadrado de 0\n",
      "1\n",
      "Generando el cuadrado de 1\n",
      "2\n",
      "Generando el cuadrado de 2\n",
      "5\n"
     ]
    }
   ],
   "source": [
    "def generador_cuadrados(n):\n",
    "    for i in range(n):\n",
    "        print(f\"Generando el cuadrado de {i}\")\n",
    "        yield i * i  # Pausa y devuelve el valor\n",
    "\n",
    "messi=generador_cuadrados(3)\n",
    "for valor in messi:\n",
    "    print(valor+1)\n",
    "\n",
    "\n",
    "    "
   ]
  },
  {
   "cell_type": "code",
   "execution_count": null,
   "id": "1b2c86ca",
   "metadata": {},
   "outputs": [
    {
     "name": "stdout",
     "output_type": "stream",
     "text": [
      "Fibonacci(1)= 1\n",
      "Fibonacci(2)= 1\n",
      "Fibonacci(3)= 2\n",
      "Fibonacci(4)= 3\n",
      "Fibonacci(5)= 5\n",
      "Fibonacci(6)= 8\n",
      "Fibonacci(7)= 13\n",
      "Fibonacci(8)= 21\n",
      "Fibonacci(9)= 34\n",
      "Fibonacci(10)= 55\n",
      "Fibonacci(11)= 89\n",
      "Fibonacci(12)= 144\n",
      "Fibonacci(13)= 233\n",
      "Fibonacci(14)= 377\n",
      "Fibonacci(15)= 610\n",
      "Fibonacci(16)= 987\n",
      "Fibonacci(17)= 1597\n",
      "Fibonacci(18)= 2584\n",
      "Fibonacci(19)= 4181\n",
      "Fibonacci(20)= 6765\n",
      "Fibonacci(21)= 10946\n",
      "Fibonacci(22)= 17711\n",
      "Fibonacci(23)= 28657\n"
     ]
    }
   ],
   "source": [
    "def fibonacci(rango):\n",
    "   a=0\n",
    "   b=1\n",
    "   f=1\n",
    "   while f<=rango:\n",
    "      print(f\"Fibonacci({f})=\",end=\" \")\n",
    "      f+=1\n",
    "      yield b\n",
    "      temp=a\n",
    "      a=b\n",
    "      b=temp+b\n",
    "      \n",
    "for num in fibonacci(23):\n",
    "   print(num)\n",
    "\n",
    "\n",
    "\n",
    "\n",
    "\n"
   ]
  }
 ],
 "metadata": {
  "kernelspec": {
   "display_name": "Python 3",
   "language": "python",
   "name": "python3"
  },
  "language_info": {
   "codemirror_mode": {
    "name": "ipython",
    "version": 3
   },
   "file_extension": ".py",
   "mimetype": "text/x-python",
   "name": "python",
   "nbconvert_exporter": "python",
   "pygments_lexer": "ipython3",
   "version": "3.13.5"
  }
 },
 "nbformat": 4,
 "nbformat_minor": 5
}
