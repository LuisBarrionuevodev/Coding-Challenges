{
 "cells": [
  {
   "cell_type": "code",
   "execution_count": 11,
   "id": "7c15ac23",
   "metadata": {},
   "outputs": [
    {
     "data": {
      "text/plain": [
       "{'player': 'tijera', 'computer': 'tijera'}"
      ]
     },
     "execution_count": 11,
     "metadata": {},
     "output_type": "execute_result"
    }
   ],
   "source": [
    "import random\n",
    "def get_choices():\n",
    "    player_choice= input(\"Elije Piedra, Papel o Tijera\")\n",
    "    options= [\"papel\",\"piedra\",\"tijera\"]\n",
    "    computer_choice=random.choice(options)\n",
    "    choices={\"player\":player_choice,\"computer\":computer_choice}\n",
    "    \n",
    "    return choices\n",
    "get_choices()"
   ]
  },
  {
   "cell_type": "code",
   "execution_count": 1,
   "id": "5f73c6a7",
   "metadata": {},
   "outputs": [
    {
     "name": "stdout",
     "output_type": "stream",
     "text": [
      "[1, 2, 4, 2]\n"
     ]
    }
   ],
   "source": [
    "rango=int(input(\"Ingresa el tamanio del array\"))\n",
    "array=[]\n",
    "for i in range(rango):\n",
    "    elemento=int(input(f\"Ingrese el elemento numero{i}\"))\n",
    "    array.append(elemento)\n",
    "\n",
    "print(array) "
   ]
  },
  {
   "cell_type": "code",
   "execution_count": 27,
   "id": "7c9ffcf4",
   "metadata": {},
   "outputs": [
    {
     "ename": "ValueError",
     "evalue": "invalid literal for int() with base 10: 'd'",
     "output_type": "error",
     "traceback": [
      "\u001b[1;31m---------------------------------------------------------------------------\u001b[0m",
      "\u001b[1;31mValueError\u001b[0m                                Traceback (most recent call last)",
      "Cell \u001b[1;32mIn[27], line 3\u001b[0m\n\u001b[0;32m      1\u001b[0m entrada\u001b[38;5;241m=\u001b[39m(\u001b[38;5;28minput\u001b[39m(\u001b[38;5;124m\"\u001b[39m\u001b[38;5;124mingresa los numeros\u001b[39m\u001b[38;5;124m\"\u001b[39m))\n\u001b[1;32m----> 3\u001b[0m array\u001b[38;5;241m=\u001b[39m\u001b[38;5;28;43mlist\u001b[39;49m\u001b[43m(\u001b[49m\u001b[38;5;28;43mmap\u001b[39;49m\u001b[43m(\u001b[49m\u001b[38;5;28;43mint\u001b[39;49m\u001b[43m,\u001b[49m\u001b[43mentrada\u001b[49m\u001b[38;5;241;43m.\u001b[39;49m\u001b[43msplit\u001b[49m\u001b[43m(\u001b[49m\u001b[43m)\u001b[49m\u001b[43m)\u001b[49m\u001b[43m)\u001b[49m\n\u001b[0;32m      5\u001b[0m \u001b[38;5;28mprint\u001b[39m(array)\n",
      "\u001b[1;31mValueError\u001b[0m: invalid literal for int() with base 10: 'd'"
     ]
    }
   ],
   "source": [
    "entrada=(input(\"ingresa los numeros\"))\n",
    "\n",
    "array=list(map(int,entrada.split()))\n",
    "\n",
    "print(array)"
   ]
  },
  {
   "cell_type": "code",
   "execution_count": 34,
   "id": "e6347287",
   "metadata": {},
   "outputs": [
    {
     "data": {
      "text/plain": [
       "0"
      ]
     },
     "execution_count": 34,
     "metadata": {},
     "output_type": "execute_result"
    }
   ],
   "source": [
    "entrada=(input(\"Ingresa los numeros del array\"))\n",
    "\n",
    "array=list(map(int,entrada.split()))\n",
    "array.sort()\n",
    "\n",
    "numero= int(input(\"Numero a buscar\"))\n",
    "\n",
    "def buscar_numero(array,numero):\n",
    "    minimo =0\n",
    "    maximo= len(array)-1\n",
    "\n",
    "    while minimo <= maximo:\n",
    "        medio= minimo + maximo //2\n",
    "        puntero=array[medio]\n",
    "        if puntero==numero:\n",
    "            return medio\n",
    "        elif puntero > numero:\n",
    "            maximo=medio - 1\n",
    "        else:\n",
    "            minimo =medio  +1 \n",
    "\n",
    "    return -1            \n",
    "           \n",
    "            \n",
    "buscar_numero(array,numero)    \n",
    "\n",
    "    \n"
   ]
  },
  {
   "cell_type": "code",
   "execution_count": 9,
   "id": "3e8f332f",
   "metadata": {},
   "outputs": [
    {
     "name": "stdout",
     "output_type": "stream",
     "text": [
      "6\n",
      "egb\n"
     ]
    }
   ],
   "source": [
    "def crear(num):\n",
    "    caracteres=\"abcdefghijkmnl\"\n",
    "    num_entero=str(num)\n",
    "    messi= int(num_entero[0])\n",
    "    c1=messi-2\n",
    "    c2=messi\n",
    "    c3=messi-5\n",
    "    contrasenia= f\"{caracteres[c1]}{caracteres[c2]}{caracteres[c3]}\"\n",
    "    return (num,contrasenia)\n",
    "\n",
    "\n",
    "numero,clave=crear(6)\n",
    "\n",
    "print(numero)\n",
    "print(clave)\n"
   ]
  },
  {
   "cell_type": "code",
   "execution_count": 11,
   "id": "ec20eee3",
   "metadata": {},
   "outputs": [
    {
     "data": {
      "text/plain": [
       "20"
      ]
     },
     "execution_count": 11,
     "metadata": {},
     "output_type": "execute_result"
    }
   ],
   "source": [
    "def suma(*numeros):\n",
    "    return sum(numeros)\n",
    "\n",
    "suma(10,10)"
   ]
  },
  {
   "cell_type": "code",
   "execution_count": 12,
   "id": "ade73e45",
   "metadata": {},
   "outputs": [
    {
     "name": "stdout",
     "output_type": "stream",
     "text": [
      "10\n"
     ]
    }
   ],
   "source": [
    "multiplicar_por_dos=lambda x:x*2\n",
    "\n",
    "print(multiplicar_por_dos(5))"
   ]
  },
  {
   "cell_type": "code",
   "execution_count": 21,
   "id": "af14b137",
   "metadata": {},
   "outputs": [
    {
     "name": "stdout",
     "output_type": "stream",
     "text": [
      "[2, 4]\n"
     ]
    }
   ],
   "source": [
    "par=lambda x:x%2==0\n",
    "es_par=filter(par,[1,2,3,4])\n",
    "print(list(es_par))"
   ]
  },
  {
   "cell_type": "code",
   "execution_count": 6,
   "id": "30a48fbd",
   "metadata": {},
   "outputs": [
    {
     "name": "stdout",
     "output_type": "stream",
     "text": [
      "✅ Login correcto\n",
      "Cantidad total de mails: 663\n",
      "📩 (96/663) Guardado: Oficio ...\n",
      "📩 (97/663) Guardado: Oficio ...\n",
      "📩 (98/663) Guardado: Oficio ...\n",
      "📩 (99/663) Guardado: Oficio ...\n",
      "📩 (100/663) Guardado: Oficio ...\n",
      "📩 (259/663) Guardado: Oficio ...\n",
      "📩 (370/663) Guardado: Oficio ...\n",
      "📩 (453/663) Guardado: Re: Contestación de Oficio Nº 16575 - Nueva inspec...\n",
      "📩 (560/663) Guardado: Re: Contestación de Oficio N° 16676 - Verificación...\n",
      "📩 (565/663) Guardado: Re: Contestación de Oficio N° 16673 - Verificación...\n",
      "📩 (568/663) Guardado: Re: Contestación de Oficio N° 16689 - No se ratifi...\n",
      "📩 (609/663) Guardado: Re: Contestación de Oficio N° 241 - Referido a des...\n",
      "✅ Exportados 12 mails a mails_oficio.xlsx\n"
     ]
    }
   ],
   "source": [
    "import imaplib\n",
    "import email\n",
    "from email.header import decode_header\n",
    "import pandas as pd\n",
    "\n",
    "IMAP_SERVER = \"mail.smt.gob.ar\"\n",
    "IMAP_PORT = 993\n",
    "EMAIL_ACCOUNT = \"bromatologia@smt.gob.ar\"\n",
    "PASSWORD = \"municipio2025\"\n",
    "\n",
    "mail = imaplib.IMAP4_SSL(IMAP_SERVER, IMAP_PORT)\n",
    "mail.login(EMAIL_ACCOUNT, PASSWORD)\n",
    "print(\"✅ Login correcto\")\n",
    "\n",
    "mail.select(\"INBOX\")\n",
    "\n",
    "status, mensajes = mail.search(None, \"ALL\")\n",
    "ids = mensajes[0].split()\n",
    "total = len(ids)\n",
    "print(\"Cantidad total de mails:\", total)\n",
    "\n",
    "resultados = []\n",
    "\n",
    "for i, num in enumerate(ids, start=1):\n",
    "    status, data = mail.fetch(num, \"(RFC822)\")\n",
    "    raw = email.message_from_bytes(data[0][1])\n",
    "\n",
    "    subject, encoding = decode_header(raw[\"Subject\"])[0]\n",
    "    if isinstance(subject, bytes):\n",
    "        try:\n",
    "            subject = subject.decode(encoding if encoding else \"utf-8\", errors=\"ignore\")\n",
    "        except:\n",
    "            subject = subject.decode(\"latin-1\", errors=\"ignore\")\n",
    "\n",
    "    from_, enc = decode_header(raw[\"From\"])[0]\n",
    "    if isinstance(from_, bytes):\n",
    "        try:\n",
    "            from_ = from_.decode(enc if enc else \"utf-8\", errors=\"ignore\")\n",
    "        except:\n",
    "            from_ = from_.decode(\"latin-1\", errors=\"ignore\")\n",
    "\n",
    "    if \"Oficio\" in subject:\n",
    "        resultados.append({\"Asunto\": subject, \"Remitente\": from_})\n",
    "        print(f\"📩 ({i}/{total}) Guardado: {subject[:50]}...\")\n",
    "\n",
    "# Convertir a DataFrame\n",
    "df = pd.DataFrame(resultados)\n",
    "df.to_excel(\"mails_oficio.xlsx\", index=False)\n",
    "\n",
    "print(f\"✅ Exportados {len(df)} mails a mails_oficio.xlsx\")\n"
   ]
  },
  {
   "cell_type": "code",
   "execution_count": 25,
   "id": "aa931db1",
   "metadata": {},
   "outputs": [
    {
     "name": "stdout",
     "output_type": "stream",
     "text": [
      "✅ Conectado a mail.smt.gob.ar:993 (SSL)\n",
      "✅ Conectado a mail.smt.gob.ar:143 (sin SSL)\n",
      "✅ Conectado a mail.smt.gob.ar:995 (SSL)\n"
     ]
    }
   ],
   "source": [
    "import socket, ssl\n",
    "\n",
    "server = \"mail.smt.gob.ar\"\n",
    "ports = [993, 143, 995]  # IMAP SSL, IMAP StartTLS, POP3 SSL\n",
    "\n",
    "for port in ports:\n",
    "    try:\n",
    "        if port in [993, 995]:  # SSL directo\n",
    "            context = ssl.create_default_context()\n",
    "            with socket.create_connection((server, port), timeout=5) as sock:\n",
    "                with context.wrap_socket(sock, server_hostname=server) as ssock:\n",
    "                    print(f\"✅ Conectado a {server}:{port} (SSL)\")\n",
    "        else:  # 143 sin SSL\n",
    "            sock = socket.create_connection((server, port), timeout=5)\n",
    "            print(f\"✅ Conectado a {server}:{port} (sin SSL)\")\n",
    "            sock.close()\n",
    "    except Exception as e:\n",
    "        print(f\"❌ No conecta {server}:{port} → {e}\")\n"
   ]
  },
  {
   "cell_type": "code",
   "execution_count": 7,
   "id": "37a10368",
   "metadata": {},
   "outputs": [
    {
     "name": "stdout",
     "output_type": "stream",
     "text": [
      "Collecting google-api-python-client\n",
      "  Downloading google_api_python_client-2.179.0-py3-none-any.whl.metadata (7.0 kB)\n",
      "Collecting google-auth-httplib2\n",
      "  Downloading google_auth_httplib2-0.2.0-py2.py3-none-any.whl.metadata (2.2 kB)\n",
      "Collecting google-auth-oauthlib\n",
      "  Downloading google_auth_oauthlib-1.2.2-py3-none-any.whl.metadata (2.7 kB)\n",
      "Collecting httplib2<1.0.0,>=0.19.0 (from google-api-python-client)\n",
      "  Downloading httplib2-0.22.0-py3-none-any.whl.metadata (2.6 kB)\n",
      "Collecting google-auth!=2.24.0,!=2.25.0,<3.0.0,>=1.32.0 (from google-api-python-client)\n",
      "  Downloading google_auth-2.40.3-py2.py3-none-any.whl.metadata (6.2 kB)\n",
      "Collecting google-api-core!=2.0.*,!=2.1.*,!=2.2.*,!=2.3.0,<3.0.0,>=1.31.5 (from google-api-python-client)\n",
      "  Downloading google_api_core-2.25.1-py3-none-any.whl.metadata (3.0 kB)\n",
      "Collecting uritemplate<5,>=3.0.1 (from google-api-python-client)\n",
      "  Downloading uritemplate-4.2.0-py3-none-any.whl.metadata (2.6 kB)\n",
      "Collecting googleapis-common-protos<2.0.0,>=1.56.2 (from google-api-core!=2.0.*,!=2.1.*,!=2.2.*,!=2.3.0,<3.0.0,>=1.31.5->google-api-python-client)\n",
      "  Downloading googleapis_common_protos-1.70.0-py3-none-any.whl.metadata (9.3 kB)\n",
      "Collecting protobuf!=3.20.0,!=3.20.1,!=4.21.0,!=4.21.1,!=4.21.2,!=4.21.3,!=4.21.4,!=4.21.5,<7.0.0,>=3.19.5 (from google-api-core!=2.0.*,!=2.1.*,!=2.2.*,!=2.3.0,<3.0.0,>=1.31.5->google-api-python-client)\n",
      "  Downloading protobuf-6.32.0-cp310-abi3-win_amd64.whl.metadata (593 bytes)\n",
      "Collecting proto-plus<2.0.0,>=1.22.3 (from google-api-core!=2.0.*,!=2.1.*,!=2.2.*,!=2.3.0,<3.0.0,>=1.31.5->google-api-python-client)\n",
      "  Downloading proto_plus-1.26.1-py3-none-any.whl.metadata (2.2 kB)\n",
      "Requirement already satisfied: requests<3.0.0,>=2.18.0 in c:\\users\\pablo\\appdata\\local\\programs\\python\\python313\\lib\\site-packages (from google-api-core!=2.0.*,!=2.1.*,!=2.2.*,!=2.3.0,<3.0.0,>=1.31.5->google-api-python-client) (2.32.3)\n",
      "Collecting cachetools<6.0,>=2.0.0 (from google-auth!=2.24.0,!=2.25.0,<3.0.0,>=1.32.0->google-api-python-client)\n",
      "  Downloading cachetools-5.5.2-py3-none-any.whl.metadata (5.4 kB)\n",
      "Collecting pyasn1-modules>=0.2.1 (from google-auth!=2.24.0,!=2.25.0,<3.0.0,>=1.32.0->google-api-python-client)\n",
      "  Downloading pyasn1_modules-0.4.2-py3-none-any.whl.metadata (3.5 kB)\n",
      "Collecting rsa<5,>=3.1.4 (from google-auth!=2.24.0,!=2.25.0,<3.0.0,>=1.32.0->google-api-python-client)\n",
      "  Downloading rsa-4.9.1-py3-none-any.whl.metadata (5.6 kB)\n",
      "Requirement already satisfied: pyparsing!=3.0.0,!=3.0.1,!=3.0.2,!=3.0.3,<4,>=2.4.2 in c:\\users\\pablo\\appdata\\local\\programs\\python\\python313\\lib\\site-packages (from httplib2<1.0.0,>=0.19.0->google-api-python-client) (3.2.3)\n",
      "Requirement already satisfied: charset-normalizer<4,>=2 in c:\\users\\pablo\\appdata\\local\\programs\\python\\python313\\lib\\site-packages (from requests<3.0.0,>=2.18.0->google-api-core!=2.0.*,!=2.1.*,!=2.2.*,!=2.3.0,<3.0.0,>=1.31.5->google-api-python-client) (3.4.2)\n",
      "Requirement already satisfied: idna<4,>=2.5 in c:\\users\\pablo\\appdata\\local\\programs\\python\\python313\\lib\\site-packages (from requests<3.0.0,>=2.18.0->google-api-core!=2.0.*,!=2.1.*,!=2.2.*,!=2.3.0,<3.0.0,>=1.31.5->google-api-python-client) (3.10)\n",
      "Requirement already satisfied: urllib3<3,>=1.21.1 in c:\\users\\pablo\\appdata\\local\\programs\\python\\python313\\lib\\site-packages (from requests<3.0.0,>=2.18.0->google-api-core!=2.0.*,!=2.1.*,!=2.2.*,!=2.3.0,<3.0.0,>=1.31.5->google-api-python-client) (2.4.0)\n",
      "Requirement already satisfied: certifi>=2017.4.17 in c:\\users\\pablo\\appdata\\local\\programs\\python\\python313\\lib\\site-packages (from requests<3.0.0,>=2.18.0->google-api-core!=2.0.*,!=2.1.*,!=2.2.*,!=2.3.0,<3.0.0,>=1.31.5->google-api-python-client) (2025.1.31)\n",
      "Collecting pyasn1>=0.1.3 (from rsa<5,>=3.1.4->google-auth!=2.24.0,!=2.25.0,<3.0.0,>=1.32.0->google-api-python-client)\n",
      "  Downloading pyasn1-0.6.1-py3-none-any.whl.metadata (8.4 kB)\n",
      "Collecting requests-oauthlib>=0.7.0 (from google-auth-oauthlib)\n",
      "  Downloading requests_oauthlib-2.0.0-py2.py3-none-any.whl.metadata (11 kB)\n",
      "Requirement already satisfied: oauthlib>=3.0.0 in c:\\users\\pablo\\appdata\\local\\programs\\python\\python313\\lib\\site-packages (from requests-oauthlib>=0.7.0->google-auth-oauthlib) (3.2.2)\n",
      "Downloading google_api_python_client-2.179.0-py3-none-any.whl (14.0 MB)\n",
      "   ---------------------------------------- 0.0/14.0 MB ? eta -:--:--\n",
      "   --------- ------------------------------ 3.1/14.0 MB 19.7 MB/s eta 0:00:01\n",
      "   ----------------------------- ---------- 10.2/14.0 MB 28.6 MB/s eta 0:00:01\n",
      "   ---------------------------------------- 14.0/14.0 MB 26.9 MB/s eta 0:00:00\n",
      "Downloading google_auth_httplib2-0.2.0-py2.py3-none-any.whl (9.3 kB)\n",
      "Downloading google_api_core-2.25.1-py3-none-any.whl (160 kB)\n",
      "Downloading google_auth-2.40.3-py2.py3-none-any.whl (216 kB)\n",
      "Downloading cachetools-5.5.2-py3-none-any.whl (10 kB)\n",
      "Downloading googleapis_common_protos-1.70.0-py3-none-any.whl (294 kB)\n",
      "Downloading httplib2-0.22.0-py3-none-any.whl (96 kB)\n",
      "Downloading proto_plus-1.26.1-py3-none-any.whl (50 kB)\n",
      "Downloading protobuf-6.32.0-cp310-abi3-win_amd64.whl (435 kB)\n",
      "Downloading rsa-4.9.1-py3-none-any.whl (34 kB)\n",
      "Downloading uritemplate-4.2.0-py3-none-any.whl (11 kB)\n",
      "Downloading google_auth_oauthlib-1.2.2-py3-none-any.whl (19 kB)\n",
      "Downloading pyasn1-0.6.1-py3-none-any.whl (83 kB)\n",
      "Downloading pyasn1_modules-0.4.2-py3-none-any.whl (181 kB)\n",
      "Downloading requests_oauthlib-2.0.0-py2.py3-none-any.whl (24 kB)\n",
      "Installing collected packages: uritemplate, pyasn1, protobuf, httplib2, cachetools, rsa, requests-oauthlib, pyasn1-modules, proto-plus, googleapis-common-protos, google-auth, google-auth-oauthlib, google-auth-httplib2, google-api-core, google-api-python-client\n",
      "\n",
      "   -- -------------------------------------  1/15 [pyasn1]\n",
      "   -- -------------------------------------  1/15 [pyasn1]\n",
      "   ----- ----------------------------------  2/15 [protobuf]\n",
      "   ----- ----------------------------------  2/15 [protobuf]\n",
      "   ----- ----------------------------------  2/15 [protobuf]\n",
      "   ----- ----------------------------------  2/15 [protobuf]\n",
      "   ---------- -----------------------------  4/15 [cachetools]\n",
      "   ------------- --------------------------  5/15 [rsa]\n",
      "   ------------- --------------------------  5/15 [rsa]\n",
      "   ------------- --------------------------  5/15 [rsa]\n",
      "   ---------------- -----------------------  6/15 [requests-oauthlib]\n",
      "   ------------------ ---------------------  7/15 [pyasn1-modules]\n",
      "   ------------------ ---------------------  7/15 [pyasn1-modules]\n",
      "   ------------------ ---------------------  7/15 [pyasn1-modules]\n",
      "   ------------------ ---------------------  7/15 [pyasn1-modules]\n",
      "   ------------------ ---------------------  7/15 [pyasn1-modules]\n",
      "   ------------------ ---------------------  7/15 [pyasn1-modules]\n",
      "   ------------------ ---------------------  7/15 [pyasn1-modules]\n",
      "   ------------------ ---------------------  7/15 [pyasn1-modules]\n",
      "   --------------------- ------------------  8/15 [proto-plus]\n",
      "   --------------------- ------------------  8/15 [proto-plus]\n",
      "   ------------------------ ---------------  9/15 [googleapis-common-protos]\n",
      "   ------------------------ ---------------  9/15 [googleapis-common-protos]\n",
      "   ------------------------ ---------------  9/15 [googleapis-common-protos]\n",
      "   ------------------------ ---------------  9/15 [googleapis-common-protos]\n",
      "   ------------------------ ---------------  9/15 [googleapis-common-protos]\n",
      "   ------------------------ ---------------  9/15 [googleapis-common-protos]\n",
      "   -------------------------- ------------- 10/15 [google-auth]\n",
      "   -------------------------- ------------- 10/15 [google-auth]\n",
      "   -------------------------- ------------- 10/15 [google-auth]\n",
      "   -------------------------- ------------- 10/15 [google-auth]\n",
      "   -------------------------- ------------- 10/15 [google-auth]\n",
      "   ----------------------------- ---------- 11/15 [google-auth-oauthlib]\n",
      "   ---------------------------------- ----- 13/15 [google-api-core]\n",
      "   ---------------------------------- ----- 13/15 [google-api-core]\n",
      "   ---------------------------------- ----- 13/15 [google-api-core]\n",
      "   ---------------------------------- ----- 13/15 [google-api-core]\n",
      "   ------------------------------------- -- 14/15 [google-api-python-client]\n",
      "   ------------------------------------- -- 14/15 [google-api-python-client]\n",
      "   ------------------------------------- -- 14/15 [google-api-python-client]\n",
      "   ------------------------------------- -- 14/15 [google-api-python-client]\n",
      "   ---------------------------------------- 15/15 [google-api-python-client]\n",
      "\n",
      "Successfully installed cachetools-5.5.2 google-api-core-2.25.1 google-api-python-client-2.179.0 google-auth-2.40.3 google-auth-httplib2-0.2.0 google-auth-oauthlib-1.2.2 googleapis-common-protos-1.70.0 httplib2-0.22.0 proto-plus-1.26.1 protobuf-6.32.0 pyasn1-0.6.1 pyasn1-modules-0.4.2 requests-oauthlib-2.0.0 rsa-4.9.1 uritemplate-4.2.0\n",
      "Note: you may need to restart the kernel to use updated packages.\n"
     ]
    },
    {
     "name": "stderr",
     "output_type": "stream",
     "text": [
      "\n",
      "[notice] A new release of pip is available: 25.1.1 -> 25.2\n",
      "[notice] To update, run: python.exe -m pip install --upgrade pip\n"
     ]
    }
   ],
   "source": [
    "pip install --upgrade google-api-python-client google-auth-httplib2 google-auth-oauthlib\n"
   ]
  },
  {
   "cell_type": "code",
   "execution_count": 8,
   "id": "b2d12a4f",
   "metadata": {},
   "outputs": [
    {
     "ename": "SyntaxError",
     "evalue": "invalid syntax (2551423376.py, line 1)",
     "output_type": "error",
     "traceback": [
      "\u001b[1;36m  Cell \u001b[1;32mIn[8], line 1\u001b[1;36m\u001b[0m\n\u001b[1;33m    python gmail_oficios.py\u001b[0m\n\u001b[1;37m           ^\u001b[0m\n\u001b[1;31mSyntaxError\u001b[0m\u001b[1;31m:\u001b[0m invalid syntax\n"
     ]
    }
   ],
   "source": [
    "python gmail_oficios.py\n"
   ]
  }
 ],
 "metadata": {
  "kernelspec": {
   "display_name": "Python 3",
   "language": "python",
   "name": "python3"
  },
  "language_info": {
   "codemirror_mode": {
    "name": "ipython",
    "version": 3
   },
   "file_extension": ".py",
   "mimetype": "text/x-python",
   "name": "python",
   "nbconvert_exporter": "python",
   "pygments_lexer": "ipython3",
   "version": "3.13.5"
  }
 },
 "nbformat": 4,
 "nbformat_minor": 5
}
