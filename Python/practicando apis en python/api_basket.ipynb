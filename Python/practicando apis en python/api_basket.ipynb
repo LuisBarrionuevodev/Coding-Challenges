{
 "cells": [
  {
   "cell_type": "code",
   "execution_count": 1,
   "id": "d7fe5532",
   "metadata": {},
   "outputs": [
    {
     "name": "stdout",
     "output_type": "stream",
     "text": [
      "Requirement already satisfied: nba_api in c:\\users\\new game\\appdata\\local\\programs\\python\\python313\\lib\\site-packages (1.9.0)\n",
      "Requirement already satisfied: numpy>=2.1.0 in c:\\users\\new game\\appdata\\local\\programs\\python\\python313\\lib\\site-packages (from nba_api) (2.2.2)\n",
      "Requirement already satisfied: pandas>=2.2.0 in c:\\users\\new game\\appdata\\local\\programs\\python\\python313\\lib\\site-packages (from nba_api) (2.2.3)\n",
      "Requirement already satisfied: requests<3.0.0,>=2.32.3 in c:\\users\\new game\\appdata\\local\\programs\\python\\python313\\lib\\site-packages (from nba_api) (2.32.3)\n",
      "Requirement already satisfied: python-dateutil>=2.8.2 in c:\\users\\new game\\appdata\\roaming\\python\\python313\\site-packages (from pandas>=2.2.0->nba_api) (2.9.0.post0)\n",
      "Requirement already satisfied: pytz>=2020.1 in c:\\users\\new game\\appdata\\local\\programs\\python\\python313\\lib\\site-packages (from pandas>=2.2.0->nba_api) (2025.2)\n",
      "Requirement already satisfied: tzdata>=2022.7 in c:\\users\\new game\\appdata\\local\\programs\\python\\python313\\lib\\site-packages (from pandas>=2.2.0->nba_api) (2025.2)\n",
      "Requirement already satisfied: charset-normalizer<4,>=2 in c:\\users\\new game\\appdata\\local\\programs\\python\\python313\\lib\\site-packages (from requests<3.0.0,>=2.32.3->nba_api) (3.4.2)\n",
      "Requirement already satisfied: idna<4,>=2.5 in c:\\users\\new game\\appdata\\local\\programs\\python\\python313\\lib\\site-packages (from requests<3.0.0,>=2.32.3->nba_api) (3.10)\n",
      "Requirement already satisfied: urllib3<3,>=1.21.1 in c:\\users\\new game\\appdata\\local\\programs\\python\\python313\\lib\\site-packages (from requests<3.0.0,>=2.32.3->nba_api) (2.4.0)\n",
      "Requirement already satisfied: certifi>=2017.4.17 in c:\\users\\new game\\appdata\\local\\programs\\python\\python313\\lib\\site-packages (from requests<3.0.0,>=2.32.3->nba_api) (2025.4.26)\n",
      "Requirement already satisfied: six>=1.5 in c:\\users\\new game\\appdata\\roaming\\python\\python313\\site-packages (from python-dateutil>=2.8.2->pandas>=2.2.0->nba_api) (1.17.0)\n",
      "Note: you may need to restart the kernel to use updated packages.\n"
     ]
    },
    {
     "name": "stderr",
     "output_type": "stream",
     "text": [
      "\n",
      "[notice] A new release of pip is available: 25.0.1 -> 25.1.1\n",
      "[notice] To update, run: python.exe -m pip install --upgrade pip\n"
     ]
    }
   ],
   "source": [
    "pip install nba_api"
   ]
  },
  {
   "cell_type": "code",
   "execution_count": 2,
   "id": "7ac24531",
   "metadata": {},
   "outputs": [],
   "source": [
    "import pandas as pd\n",
    "from nba_api.stats.static import teams"
   ]
  },
  {
   "cell_type": "code",
   "execution_count": 4,
   "id": "b533d7bf",
   "metadata": {},
   "outputs": [
    {
     "data": {
      "text/plain": [
       "[{'id': 1610612737,\n",
       "  'full_name': 'Atlanta Hawks',\n",
       "  'abbreviation': 'ATL',\n",
       "  'nickname': 'Hawks',\n",
       "  'city': 'Atlanta',\n",
       "  'state': 'Georgia',\n",
       "  'year_founded': 1949},\n",
       " {'id': 1610612738,\n",
       "  'full_name': 'Boston Celtics',\n",
       "  'abbreviation': 'BOS',\n",
       "  'nickname': 'Celtics',\n",
       "  'city': 'Boston',\n",
       "  'state': 'Massachusetts',\n",
       "  'year_founded': 1946},\n",
       " {'id': 1610612739,\n",
       "  'full_name': 'Cleveland Cavaliers',\n",
       "  'abbreviation': 'CLE',\n",
       "  'nickname': 'Cavaliers',\n",
       "  'city': 'Cleveland',\n",
       "  'state': 'Ohio',\n",
       "  'year_founded': 1970}]"
      ]
     },
     "execution_count": 4,
     "metadata": {},
     "output_type": "execute_result"
    }
   ],
   "source": [
    "nba_teams = teams.get_teams()\n",
    "nba_teams[0:3]"
   ]
  },
  {
   "cell_type": "code",
   "execution_count": 47,
   "id": "3b6266da",
   "metadata": {},
   "outputs": [],
   "source": [
    "# def one_dict(list_dict):\n",
    "#     keys=list_dict[0].keys()\n",
    "#     out_dict={key:[] for key in keys}\n",
    "#     for dict_ in list_dict:\n",
    "#         for key, value in dict_.items():\n",
    "#             out_dict[key].append(value)\n",
    "#     return out_dict\n",
    "\n",
    "keys= nba_teams[0].keys()\n",
    "out_dict= {key:[] for key in keys}\n",
    "# for teams in nba_teams:\n",
    "#   for key,value in teams.items():\n",
    "#     out_dict[value].append(value)\n",
    "    \n"
   ]
  },
  {
   "cell_type": "code",
   "execution_count": 48,
   "id": "d6072520",
   "metadata": {},
   "outputs": [
    {
     "ename": "KeyError",
     "evalue": "2",
     "output_type": "error",
     "traceback": [
      "\u001b[31m---------------------------------------------------------------------------\u001b[39m",
      "\u001b[31mKeyError\u001b[39m                                  Traceback (most recent call last)",
      "\u001b[36mCell\u001b[39m\u001b[36m \u001b[39m\u001b[32mIn[48]\u001b[39m\u001b[32m, line 1\u001b[39m\n\u001b[32m----> \u001b[39m\u001b[32m1\u001b[39m \u001b[38;5;28mprint\u001b[39m(\u001b[43mout_dict\u001b[49m\u001b[43m[\u001b[49m\u001b[32;43m2\u001b[39;49m\u001b[43m]\u001b[49m)\n",
      "\u001b[31mKeyError\u001b[39m: 2"
     ]
    }
   ],
   "source": [
    "print(out_dict[2])"
   ]
  },
  {
   "cell_type": "code",
   "execution_count": null,
   "id": "328329cd",
   "metadata": {},
   "outputs": [],
   "source": []
  }
 ],
 "metadata": {
  "kernelspec": {
   "display_name": "Python 3",
   "language": "python",
   "name": "python3"
  },
  "language_info": {
   "codemirror_mode": {
    "name": "ipython",
    "version": 3
   },
   "file_extension": ".py",
   "mimetype": "text/x-python",
   "name": "python",
   "nbconvert_exporter": "python",
   "pygments_lexer": "ipython3",
   "version": "3.13.1"
  }
 },
 "nbformat": 4,
 "nbformat_minor": 5
}
